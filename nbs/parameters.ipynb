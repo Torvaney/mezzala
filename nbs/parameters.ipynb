{
 "cells": [
  {
   "cell_type": "code",
   "execution_count": null,
   "id": "6f1b9bb4",
   "metadata": {},
   "outputs": [],
   "source": [
    "# default_exp parameters"
   ]
  },
  {
   "cell_type": "code",
   "execution_count": null,
   "id": "108b707b",
   "metadata": {},
   "outputs": [],
   "source": [
    "import pprint"
   ]
  },
  {
   "cell_type": "markdown",
   "id": "764b9540",
   "metadata": {},
   "source": [
    "# Parameters"
   ]
  },
  {
   "cell_type": "code",
   "execution_count": null,
   "id": "ec3f14c3",
   "metadata": {},
   "outputs": [],
   "source": [
    "#export\n",
    "import dataclasses\n",
    "import typing"
   ]
  },
  {
   "cell_type": "code",
   "execution_count": null,
   "id": "4bfb6766",
   "metadata": {},
   "outputs": [],
   "source": [
    "#export\n",
    "\n",
    "\n",
    "@dataclasses.dataclass(frozen=True)\n",
    "class ParameterKey:\n",
    "    label: typing.Hashable\n",
    "\n",
    "\n",
    "# Basic model constants\n",
    "RHO_KEY = ParameterKey('Rho')\n",
    "HFA_KEY = ParameterKey('Home-field advantage')\n",
    "AVG_KEY = ParameterKey('Average rate')"
   ]
  },
  {
   "cell_type": "code",
   "execution_count": null,
   "id": "480aa95b",
   "metadata": {},
   "outputs": [],
   "source": [
    "#export\n",
    "\n",
    "\n",
    "class TeamParameterKey(ParameterKey):\n",
    "    \"\"\"\n",
    "    Parent class of `OffenceParameterKey` and `DefenceParameterKey`.\n",
    "    \n",
    "    Can be used to extract team offence/defence parameters with `isinstance`.\n",
    "    \"\"\"\n",
    "    pass\n",
    "\n",
    "\n",
    "class OffenceParameterKey(TeamParameterKey):\n",
    "    \"\"\"\n",
    "    Team offence parameter key\n",
    "    \"\"\"\n",
    "    pass\n",
    "\n",
    "\n",
    "class DefenceParameterKey(TeamParameterKey):\n",
    "    \"\"\"\n",
    "    Team Defence parameter key\n",
    "    \"\"\"\n",
    "    pass"
   ]
  },
  {
   "cell_type": "code",
   "execution_count": null,
   "id": "bd2b13f8",
   "metadata": {},
   "outputs": [
    {
     "name": "stdout",
     "output_type": "stream",
     "text": [
      "[OffenceParameterKey(label='Arsenal'),\n",
      " OffenceParameterKey(label='Chelsea'),\n",
      " DefenceParameterKey(label='Arsenal'),\n",
      " DefenceParameterKey(label='Chelsea')]\n"
     ]
    }
   ],
   "source": [
    "parameters = [\n",
    "    RHO_KEY,\n",
    "    HFA_KEY,\n",
    "    AVG_KEY,\n",
    "    OffenceParameterKey('Arsenal'),\n",
    "    OffenceParameterKey('Chelsea'),\n",
    "    DefenceParameterKey('Arsenal'),\n",
    "    DefenceParameterKey('Chelsea'),\n",
    "]\n",
    "\n",
    "pprint.pprint([p for p in parameters if isinstance(p, TeamParameterKey)])"
   ]
  }
 ],
 "metadata": {
  "kernelspec": {
   "display_name": "Python 3",
   "language": "python",
   "name": "python3"
  }
 },
 "nbformat": 4,
 "nbformat_minor": 5
}
