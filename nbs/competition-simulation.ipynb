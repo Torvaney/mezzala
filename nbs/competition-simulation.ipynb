{
 "cells": [
  {
   "cell_type": "code",
   "execution_count": null,
   "id": "549589a2",
   "metadata": {},
   "outputs": [],
   "source": [
    "import abc\n",
    "import dataclasses\n",
    "import enum\n",
    "import functools\n",
    "import itertools\n",
    "import operator\n",
    "import typing\n",
    "\n",
    "import numpy as np"
   ]
  },
  {
   "cell_type": "code",
   "execution_count": null,
   "id": "56706fd1",
   "metadata": {},
   "outputs": [],
   "source": [
    "\n",
    "\n",
    "@dataclasses.dataclass()\n",
    "class Fixture:\n",
    "    home_team: typing.Hashable\n",
    "    away_team: typing.Hashable\n",
    "    scoreline: typing.Optional[typing.Tuple[int, int]] = None\n",
    "    metadata: typing.Optional[dict] = None\n",
    "       \n",
    "    @property\n",
    "    def home_goals(self):\n",
    "        return self.scoreline[0]\n",
    "       \n",
    "    @property\n",
    "    def away_goals(self):\n",
    "        return self.scoreline[1]"
   ]
  },
  {
   "cell_type": "code",
   "execution_count": null,
   "id": "f14a323f",
   "metadata": {},
   "outputs": [
    {
     "data": {
      "text/plain": [
       "Fixture(home_team='Arsenal', away_team='Chelsea', scoreline=None, metadata=None)"
      ]
     },
     "execution_count": null,
     "metadata": {},
     "output_type": "execute_result"
    }
   ],
   "source": [
    "Fixture('Arsenal', 'Chelsea')"
   ]
  },
  {
   "cell_type": "code",
   "execution_count": null,
   "id": "c1c53e4d",
   "metadata": {},
   "outputs": [],
   "source": [
    "# Can this be deleted now??\n",
    "\n",
    "class FixtureVenue(enum.Enum):\n",
    "    NEUTRAL = 'Neutral venue'\n",
    "    HOME_VS_AWAY = 'Home vs away'\n",
    "    \n",
    "    def schedule(self, team1, team2, metadata=None):\n",
    "        if self == FixtureVenue.NEUTRAL:\n",
    "            return [\n",
    "                Fixture(home_team=team1,\n",
    "                        away_team=team2,\n",
    "                        metadata=metadata)\n",
    "            ]\n",
    "        if self == FixtureVenue.HOME_VS_AWAY:\n",
    "            return [\n",
    "                Fixture(home_team=team1,\n",
    "                        away_team=team2,\n",
    "                        metadata=metadata),\n",
    "                Fixture(home_team=team2,\n",
    "                        away_team=team1,\n",
    "                        metadata=metadata),\n",
    "            ]"
   ]
  },
  {
   "cell_type": "code",
   "execution_count": null,
   "id": "3cad804b",
   "metadata": {},
   "outputs": [
    {
     "data": {
      "text/plain": [
       "[Fixture(home_team='Arsenal', away_team='Chelsea', scoreline=None, metadata=None)]"
      ]
     },
     "execution_count": null,
     "metadata": {},
     "output_type": "execute_result"
    }
   ],
   "source": [
    "neutral_venue = FixtureVenue.NEUTRAL\n",
    "\n",
    "neutral_venue.schedule('Arsenal', 'Chelsea')"
   ]
  },
  {
   "cell_type": "code",
   "execution_count": null,
   "id": "402fb471",
   "metadata": {},
   "outputs": [],
   "source": [
    "\n",
    "\n",
    "class InitCompetition:\n",
    "    def __init__(self, teams):\n",
    "        self.teams = set(teams)"
   ]
  },
  {
   "cell_type": "markdown",
   "id": "d1f10fa5",
   "metadata": {},
   "source": [
    "TODOs/Notes\n",
    "* need some way to supply a (potentially partial) fixture/results list with `matches`\n",
    "* Should we use adapters for linking to/from data, again? Could use this to just use \"native\" representation of a match or w/e"
   ]
  },
  {
   "cell_type": "markdown",
   "id": "6831b332",
   "metadata": {},
   "source": [
    "# Match schedulers"
   ]
  },
  {
   "cell_type": "code",
   "execution_count": null,
   "id": "9f451502",
   "metadata": {},
   "outputs": [],
   "source": [
    "class HomeAndAwayScheduler:\n",
    "    def __init__(self, rounds=1):\n",
    "        self.rounds = rounds\n",
    "        \n",
    "    def schedule(self, teams, metadata=None, matches=None):\n",
    "        matchups = list(itertools.combinations(teams, 2))\n",
    "        \n",
    "        fixtures = []\n",
    "        for team1, team2 in matchups:\n",
    "            # TODO: need some way to merge with a list of matches\n",
    "            if matches:\n",
    "                pass\n",
    "            \n",
    "            fixtures += [\n",
    "                Fixture(home_team=team1,\n",
    "                        away_team=team2,\n",
    "                        metadata=metadata),\n",
    "                Fixture(home_team=team2,\n",
    "                        away_team=team1,\n",
    "                        metadata=metadata),\n",
    "            ]*self.rounds\n",
    "            \n",
    "        return fixtures\n",
    "\n",
    "\n",
    "class NeutralScheduler:\n",
    "    def __init__(self, rounds=1):\n",
    "        self.rounds = rounds\n",
    "        \n",
    "    def schedule(self, teams, metadata=None, match_data=None):\n",
    "        default_metadata = {'neutral_venue': True}\n",
    "        matchups = list(itertools.combinations(teams, 2))\n",
    "        \n",
    "        fixtures = []\n",
    "        for team1, team2 in matchups:\n",
    "            # TODO: need some way to merge with a list of matches\n",
    "            if match_data:\n",
    "                matches, adapter = match_data\n",
    "                \n",
    "                # If the selected match exist in the match data\n",
    "                pass\n",
    "            \n",
    "            fixtures += [\n",
    "                Fixture(home_team=team1,\n",
    "                        away_team=team2,\n",
    "                        metadata={**default_metadata, **(metadata or {})}),\n",
    "            ]\n",
    "            \n",
    "        return fixtures\n",
    "    "
   ]
  },
  {
   "cell_type": "code",
   "execution_count": null,
   "id": "683eaa35",
   "metadata": {},
   "outputs": [
    {
     "data": {
      "text/plain": [
       "[Fixture(home_team='Liverpool', away_team='Arsenal', scoreline=None, metadata=None),\n",
       " Fixture(home_team='Arsenal', away_team='Liverpool', scoreline=None, metadata=None),\n",
       " Fixture(home_team='Liverpool', away_team='Tottenham', scoreline=None, metadata=None),\n",
       " Fixture(home_team='Tottenham', away_team='Liverpool', scoreline=None, metadata=None),\n",
       " Fixture(home_team='Liverpool', away_team='Chelsea', scoreline=None, metadata=None),\n",
       " Fixture(home_team='Chelsea', away_team='Liverpool', scoreline=None, metadata=None),\n",
       " Fixture(home_team='Arsenal', away_team='Tottenham', scoreline=None, metadata=None),\n",
       " Fixture(home_team='Tottenham', away_team='Arsenal', scoreline=None, metadata=None),\n",
       " Fixture(home_team='Arsenal', away_team='Chelsea', scoreline=None, metadata=None),\n",
       " Fixture(home_team='Chelsea', away_team='Arsenal', scoreline=None, metadata=None),\n",
       " Fixture(home_team='Tottenham', away_team='Chelsea', scoreline=None, metadata=None),\n",
       " Fixture(home_team='Chelsea', away_team='Tottenham', scoreline=None, metadata=None)]"
      ]
     },
     "execution_count": null,
     "metadata": {},
     "output_type": "execute_result"
    }
   ],
   "source": [
    "teams = {'Arsenal', 'Chelsea', 'Liverpool', 'Tottenham'}\n",
    "\n",
    "HomeAndAwayScheduler().schedule(teams)"
   ]
  },
  {
   "cell_type": "code",
   "execution_count": null,
   "id": "affc660f",
   "metadata": {},
   "outputs": [
    {
     "data": {
      "text/plain": [
       "[Fixture(home_team='Liverpool', away_team='Chelsea', scoreline=None, metadata={'neutral_venue': True})]"
      ]
     },
     "execution_count": null,
     "metadata": {},
     "output_type": "execute_result"
    }
   ],
   "source": [
    "NeutralScheduler().schedule(['Liverpool', 'Chelsea'])"
   ]
  },
  {
   "cell_type": "markdown",
   "id": "39101665",
   "metadata": {},
   "source": [
    "# Match Resolvers"
   ]
  },
  {
   "cell_type": "markdown",
   "id": "8e9fe6d1",
   "metadata": {},
   "source": [
    "## League table"
   ]
  },
  {
   "cell_type": "code",
   "execution_count": null,
   "id": "88e4a51b",
   "metadata": {},
   "outputs": [],
   "source": [
    "\n",
    "\n",
    "@dataclasses.dataclass()\n",
    "class HeadToHead:\n",
    "    def compare(self, row1, row2):\n",
    "        if row1.points > row2.points:\n",
    "            return -1\n",
    "        elif row1.points < row2.points:\n",
    "            return 1\n",
    "        return 0"
   ]
  },
  {
   "cell_type": "code",
   "execution_count": null,
   "id": "c75e4738",
   "metadata": {},
   "outputs": [],
   "source": [
    "\n",
    "\n",
    "@dataclasses.dataclass()\n",
    "class LeagueTableRow:\n",
    "    team: typing.Any\n",
    "    goals_for: int = 0\n",
    "    goals_against: int = 0\n",
    "    wins: int = 0\n",
    "    draws: int = 0\n",
    "    losses: int = 0\n",
    "\n",
    "    def __add__(self, row):\n",
    "        if self.team != row.team:\n",
    "            raise ValueError('Only TableRows with the same team can be added')\n",
    "\n",
    "        return LeagueTableRow(\n",
    "            self.team,\n",
    "            self.goals_for + row.goals_for,\n",
    "            self.goals_against + row.goals_against,\n",
    "            self.wins + row.wins,\n",
    "            self.draws + row.draws,\n",
    "            self.losses + row.losses\n",
    "        )\n",
    "\n",
    "    @property\n",
    "    def points(self):\n",
    "        return self.wins*3 + self.draws\n",
    "\n",
    "    @property\n",
    "    def goal_difference(self):\n",
    "        return self.goals_for - self.goals_against\n",
    "\n",
    "    @staticmethod\n",
    "    def from_match(team, goals_for, goals_against):\n",
    "        return LeagueTableRow(\n",
    "            team=team,\n",
    "            goals_for=goals_for,\n",
    "            goals_against=goals_against,\n",
    "            wins=1 if goals_for > goals_against else 0,\n",
    "            draws=1 if goals_for == goals_against else 0,\n",
    "            losses=1 if goals_for < goals_against else 0\n",
    "        )    "
   ]
  },
  {
   "cell_type": "code",
   "execution_count": null,
   "id": "2ca647f1",
   "metadata": {},
   "outputs": [],
   "source": [
    "\n",
    "\n",
    "class LeagueTable:\n",
    "    def __init__(self, matches, tiebreak=HeadToHead()):\n",
    "        # TODO: validate that rows contain only 1 of each team\n",
    "        # NOTE: need to be able to parameterise the comparison function, so that we can have H2H tables\n",
    "        # TODO: need to construct from matches so that can parameterise on tiebreak/h2h?\n",
    "        self.matches = matches\n",
    "        self.tiebreak = tiebreak\n",
    "        \n",
    "    def __repr__(self):\n",
    "        return repr(self._rows)\n",
    "    \n",
    "    @property\n",
    "    def _rows(self):\n",
    "        \"\"\" Generate league table rows from matches. \"\"\"\n",
    "        match_rows = []\n",
    "        for match in self.matches:\n",
    "            match_rows += [\n",
    "                LeagueTableRow.from_match(\n",
    "                    match.home_team,\n",
    "                    match.home_goals,\n",
    "                    match.away_goals,\n",
    "                ),\n",
    "                LeagueTableRow.from_match(\n",
    "                    match.away_team,\n",
    "                    match.away_goals,\n",
    "                    match.home_goals,\n",
    "                )\n",
    "            ]\n",
    "        \n",
    "        rows = []\n",
    "        for team, team_rows in itertools.groupby(sorted(match_rows, key=lambda x: x.team), key=lambda x: x.team):\n",
    "            rows.append(functools.reduce(operator.add, team_rows))\n",
    "            \n",
    "        return sorted(rows, key=functools.cmp_to_key(self.tiebreak.compare))\n",
    "    \n",
    "    @property\n",
    "    def teams(self):\n",
    "        return [r.teams for r in self._rows]\n",
    "    \n",
    "    def get_team(self, team):\n",
    "        try:\n",
    "            return next(x for x in self._rows if x.team == team)\n",
    "        except StopIteration as err:\n",
    "            raise IndexError(f'Team {repr(team)} not present in table')\n",
    "\n",
    "    def get_position(self, index):\n",
    "        if index == 0:\n",
    "            IndexError(f'Position indexes start at 1, not 0. Did you mean to use index=1, instead?')\n",
    "        try:\n",
    "            return self._rows[\n",
    "                index - 1 \n",
    "                if index > 0 \n",
    "                else index    # Negative indexes work the same as usual\n",
    "            ]\n",
    "        except IndexError:\n",
    "            raise IndexError(f'Position index is out of range')"
   ]
  },
  {
   "cell_type": "code",
   "execution_count": null,
   "id": "5958e3fc",
   "metadata": {},
   "outputs": [],
   "source": [
    "\n",
    "\n",
    "class LeagueTableResolver:\n",
    "    def __init__(self, tiebreak=HeadToHead()):\n",
    "        self.tiebreak = tiebreak\n",
    "    \n",
    "    def resolve(self, matches):\n",
    "        return LeagueTable(matches, tiebreak=self.tiebreak)"
   ]
  },
  {
   "cell_type": "code",
   "execution_count": null,
   "id": "a81c643b",
   "metadata": {},
   "outputs": [],
   "source": [
    "\n",
    "\n",
    "class KnockoutResolver:\n",
    "    def __init__(self):\n",
    "        pass\n",
    "    \n",
    "    def resolve(self, matches):\n",
    "        # Away goals? etc etc\n",
    "        pass"
   ]
  },
  {
   "cell_type": "code",
   "execution_count": null,
   "id": "a8cf885e",
   "metadata": {},
   "outputs": [
    {
     "data": {
      "text/plain": [
       "[{'date': '2015-08-08',\n",
       "  'team1': 'Manchester United FC',\n",
       "  'team2': 'Tottenham Hotspur FC',\n",
       "  'score': {'ft': [1, 0]}},\n",
       " {'date': '2015-08-08',\n",
       "  'team1': 'AFC Bournemouth',\n",
       "  'team2': 'Aston Villa FC',\n",
       "  'score': {'ft': [0, 1]}},\n",
       " {'date': '2015-08-08',\n",
       "  'team1': 'Leicester City FC',\n",
       "  'team2': 'Sunderland AFC',\n",
       "  'score': {'ft': [4, 2]}}]"
      ]
     },
     "execution_count": null,
     "metadata": {},
     "output_type": "execute_result"
    }
   ],
   "source": [
    "import json\n",
    "\n",
    "\n",
    "with open('../data/premier-league-1516.json', 'r') as f:\n",
    "    pl_1516 = json.load(f)\n",
    "    \n",
    "pl_1516[0:3]"
   ]
  },
  {
   "cell_type": "code",
   "execution_count": null,
   "id": "6f533257",
   "metadata": {},
   "outputs": [
    {
     "data": {
      "text/plain": [
       "[LeagueTableRow(team='Leicester City FC', goals_for=68, goals_against=36, wins=23, draws=12, losses=3),\n",
       " LeagueTableRow(team='Arsenal FC', goals_for=65, goals_against=36, wins=20, draws=11, losses=7),\n",
       " LeagueTableRow(team='Tottenham Hotspur FC', goals_for=69, goals_against=35, wins=19, draws=13, losses=6),\n",
       " LeagueTableRow(team='Manchester City FC', goals_for=71, goals_against=41, wins=19, draws=9, losses=10),\n",
       " LeagueTableRow(team='Manchester United FC', goals_for=49, goals_against=35, wins=19, draws=9, losses=10),\n",
       " LeagueTableRow(team='Southampton FC', goals_for=59, goals_against=41, wins=18, draws=9, losses=11),\n",
       " LeagueTableRow(team='West Ham United FC', goals_for=65, goals_against=51, wins=16, draws=14, losses=8),\n",
       " LeagueTableRow(team='Liverpool FC', goals_for=63, goals_against=50, wins=16, draws=12, losses=10),\n",
       " LeagueTableRow(team='Stoke City FC', goals_for=41, goals_against=55, wins=14, draws=9, losses=15),\n",
       " LeagueTableRow(team='Chelsea FC', goals_for=59, goals_against=53, wins=12, draws=14, losses=12),\n",
       " LeagueTableRow(team='Everton FC', goals_for=59, goals_against=55, wins=11, draws=14, losses=13),\n",
       " LeagueTableRow(team='Swansea City FC', goals_for=42, goals_against=52, wins=12, draws=11, losses=15),\n",
       " LeagueTableRow(team='Watford FC', goals_for=40, goals_against=50, wins=12, draws=9, losses=17),\n",
       " LeagueTableRow(team='West Bromwich Albion FC', goals_for=34, goals_against=48, wins=10, draws=13, losses=15),\n",
       " LeagueTableRow(team='AFC Bournemouth', goals_for=45, goals_against=67, wins=11, draws=9, losses=18),\n",
       " LeagueTableRow(team='Crystal Palace FC', goals_for=39, goals_against=51, wins=11, draws=9, losses=18),\n",
       " LeagueTableRow(team='Sunderland AFC', goals_for=48, goals_against=62, wins=9, draws=12, losses=17),\n",
       " LeagueTableRow(team='Newcastle United FC', goals_for=44, goals_against=65, wins=9, draws=10, losses=19),\n",
       " LeagueTableRow(team='Norwich City FC', goals_for=39, goals_against=67, wins=9, draws=7, losses=22),\n",
       " LeagueTableRow(team='Aston Villa FC', goals_for=27, goals_against=76, wins=3, draws=8, losses=27)]"
      ]
     },
     "execution_count": null,
     "metadata": {},
     "output_type": "execute_result"
    }
   ],
   "source": [
    "LeagueTableResolver().resolve(matches=[\n",
    "    Fixture(p['team1'], p['team2'], scoreline=p['score']['ft']) for p in pl_1516\n",
    "])._rows"
   ]
  },
  {
   "cell_type": "markdown",
   "id": "09052bed",
   "metadata": {},
   "source": [
    "# Competition blocks"
   ]
  },
  {
   "cell_type": "markdown",
   "id": "e8f7dae2",
   "metadata": {},
   "source": [
    "note: need to have basic blocks and composite blocks with the same api"
   ]
  },
  {
   "cell_type": "code",
   "execution_count": null,
   "id": "ea8d55f1",
   "metadata": {},
   "outputs": [],
   "source": [
    "class SequentialCompetition:\n",
    "    pass\n",
    "\n",
    "\n",
    "class CompositeCompetition:\n",
    "    pass"
   ]
  },
  {
   "cell_type": "code",
   "execution_count": null,
   "id": "4f4887dc",
   "metadata": {},
   "outputs": [],
   "source": [
    "efl_championship = {\n",
    "    'rounds': {\n",
    "        'main': (HomeAndAwayScheduler(), LeagueTableResolver()),\n",
    "        'playoff_1': (HomeAndAwayScheduler(), KnockoutResolver()),\n",
    "        'playoff_2': (HomeAndAwayScheduler(), KnockoutResolver()),\n",
    "        'final': (NeutralScheduler(), KnockoutResolver()),\n",
    "    },\n",
    "    'links': [\n",
    "        {'from': 'main', 'to': 'playoff_1', ...}  # How do we say _which_ teams? -> need to either add a filtering blocksd, or add it into the edge definition\n",
    "    ]\n",
    "}"
   ]
  },
  {
   "cell_type": "markdown",
   "id": "52956d9a",
   "metadata": {},
   "source": [
    "# Composing competition blocks"
   ]
  },
  {
   "cell_type": "code",
   "execution_count": null,
   "id": "d3e66afa",
   "metadata": {},
   "outputs": [],
   "source": []
  },
  {
   "cell_type": "code",
   "execution_count": null,
   "id": "86fea1c7",
   "metadata": {},
   "outputs": [],
   "source": []
  },
  {
   "cell_type": "code",
   "execution_count": null,
   "id": "5e55f508",
   "metadata": {},
   "outputs": [],
   "source": []
  },
  {
   "cell_type": "code",
   "execution_count": null,
   "id": "7b877b30",
   "metadata": {},
   "outputs": [],
   "source": []
  },
  {
   "cell_type": "markdown",
   "id": "5b3307db",
   "metadata": {},
   "source": [
    "# Competition blocks"
   ]
  },
  {
   "cell_type": "code",
   "execution_count": null,
   "id": "cf8731a5",
   "metadata": {},
   "outputs": [],
   "source": [
    "class CompetitionBlockABC(abc.ABC):\n",
    "    def __init__(self, scheduler=HomeAndAwayScheduler()):\n",
    "        self.scheduler = scheduler\n",
    "    \n",
    "    def predict(self, teams, fn, metadata=None, matches=None):\n",
    "        \"\"\" Predict the matches according to the scheduler. \"\"\"\n",
    "        fixtures = self.scheduler.schedule(teams, metadata, matches)\n",
    "        for match in fixtures:\n",
    "            if match.scoreline:\n",
    "                continue\n",
    "            \n",
    "            match.scoreline = fn(match)\n",
    "        return fixtures\n",
    "    \n",
    "    @abc.abstractmethod\n",
    "    def resolve(self, matches):\n",
    "        \"\"\" Take played/predicted matches and resolve them according to the block logic. \"\"\"\n",
    "        pass"
   ]
  },
  {
   "cell_type": "code",
   "execution_count": null,
   "id": "b5d4edf5",
   "metadata": {},
   "outputs": [],
   "source": [
    "\n",
    "\n",
    "class AllPlayAll:\n",
    "    \"\"\" ... \"\"\"\n",
    "    \n",
    "    def __init__(self, scheduler=HomeAndAwayScheduler()):\n",
    "        self.scheduler = scheduler\n",
    "    \n",
    "    def predict(self, teams, fn, metadata=None, matches=None):\n",
    "        fixtures = self.scheduler.schedule(teams, metadata, matches)\n",
    "        for match in fixtures:\n",
    "            if match.scoreline:\n",
    "                continue\n",
    "            \n",
    "            match.scoreline = fn(match)\n",
    "        return fixtures\n",
    "    \n",
    "    def resolve()"
   ]
  },
  {
   "cell_type": "code",
   "execution_count": null,
   "id": "a32ab79e",
   "metadata": {},
   "outputs": [],
   "source": [
    "teams = {'Arsenal', 'Chelsea', 'Liverpool', 'Tottenham'}\n",
    "\n",
    "mini_league = AllPlayAll()\n",
    "mini_league.predict(teams, lambda x: (1, 0))"
   ]
  },
  {
   "cell_type": "code",
   "execution_count": null,
   "id": "cf1d2d60",
   "metadata": {},
   "outputs": [],
   "source": [
    "mini_league.predict(lambda x: (2, 1))"
   ]
  },
  {
   "cell_type": "code",
   "execution_count": null,
   "id": "ec5ad9ff",
   "metadata": {},
   "outputs": [],
   "source": [
    "\n",
    "\n",
    "class Knockout:\n",
    "    def __init__(self, teams, matches_per_team = FixtureVenue.NEUTRAL, matches=[]):\n",
    "        n_teams = len(teams)\n",
    "        if (n_teams > 1) and (n_teams % 2 != 0):\n",
    "            raise ValueError('A knockout block must have an even number of teams!')\n",
    "        \n",
    "        self.teams = teams\n",
    "        self.matches_per_team = matches_per_team\n",
    "        self.matches = matches\n",
    "        \n",
    "        # NOTE: in group-stage -> knockout tournaments, how do you ensure the correct joining? Just do multiple\n",
    "        # `Knockout`s?\n",
    "        \n",
    "    def schedule(self):\n",
    "        pass"
   ]
  },
  {
   "cell_type": "markdown",
   "id": "93f52079",
   "metadata": {},
   "source": [
    "## \"Glue\" competition blocks"
   ]
  },
  {
   "cell_type": "code",
   "execution_count": null,
   "id": "ebed6a31",
   "metadata": {},
   "outputs": [],
   "source": [
    "\n",
    "\n",
    "class Split:\n",
    "    def __init__(self, previous):\n",
    "        # NOTE: You can only split an AllPlayAll table, I think?\n",
    "        pass"
   ]
  },
  {
   "cell_type": "code",
   "execution_count": null,
   "id": "4915ceab",
   "metadata": {},
   "outputs": [],
   "source": [
    "\n",
    "\n",
    "class Combine:\n",
    "    pass"
   ]
  },
  {
   "cell_type": "markdown",
   "id": "3e66ddc1",
   "metadata": {},
   "source": [
    "## Composite competition block"
   ]
  },
  {
   "cell_type": "code",
   "execution_count": null,
   "id": "2df7b275",
   "metadata": {},
   "outputs": [],
   "source": [
    "\n",
    "\n",
    "class Competition:\n",
    "    pass\n",
    "\n",
    "    # TODO: some kind of graphvis plotting method"
   ]
  }
 ],
 "metadata": {
  "kernelspec": {
   "display_name": "Python 3",
   "language": "python",
   "name": "python3"
  }
 },
 "nbformat": 4,
 "nbformat_minor": 5
}
