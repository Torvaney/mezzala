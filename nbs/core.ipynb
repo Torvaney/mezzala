{
 "cells": [
  {
   "cell_type": "code",
   "execution_count": null,
   "metadata": {},
   "outputs": [],
   "source": [
    "# default_exp __init__"
   ]
  },
  {
   "cell_type": "markdown",
   "metadata": {},
   "source": [
    "# Core\n",
    "\n",
    "> Team-strength models in Python"
   ]
  },
  {
   "cell_type": "code",
   "execution_count": null,
   "metadata": {},
   "outputs": [],
   "source": [
    "#hide\n",
    "from nbdev.showdoc import *"
   ]
  },
  {
   "cell_type": "code",
   "execution_count": null,
   "metadata": {},
   "outputs": [],
   "source": [
    "import json\n",
    "import datetime as dt\n",
    "import numpy as np\n",
    "import pprint"
   ]
  },
  {
   "cell_type": "code",
   "execution_count": null,
   "metadata": {},
   "outputs": [],
   "source": [
    "#export\n",
    "\n",
    "# For now, just re-export everything\n",
    "from mezzala.adapters import *\n",
    "from mezzala.blocks import *\n",
    "from mezzala.models import *\n",
    "from mezzala.weights import *\n",
    "from mezzala.parameters import *"
   ]
  },
  {
   "cell_type": "markdown",
   "metadata": {},
   "source": [
    "Let's demo"
   ]
  },
  {
   "cell_type": "code",
   "execution_count": null,
   "metadata": {},
   "outputs": [
    {
     "data": {
      "text/plain": [
       "[{'date': datetime.datetime(2015, 8, 8, 0, 0),\n",
       "  'team1': 'Manchester United FC',\n",
       "  'team2': 'Tottenham Hotspur FC',\n",
       "  'score': {'ft': [1, 0]}},\n",
       " {'date': datetime.datetime(2015, 8, 8, 0, 0),\n",
       "  'team1': 'AFC Bournemouth',\n",
       "  'team2': 'Aston Villa FC',\n",
       "  'score': {'ft': [0, 1]}},\n",
       " {'date': datetime.datetime(2015, 8, 8, 0, 0),\n",
       "  'team1': 'Leicester City FC',\n",
       "  'team2': 'Sunderland AFC',\n",
       "  'score': {'ft': [4, 2]}}]"
      ]
     },
     "execution_count": null,
     "metadata": {},
     "output_type": "execute_result"
    }
   ],
   "source": [
    "with open('../data/premier-league-1516.json', 'r') as f:\n",
    "    pl_1516 = json.load(f)\n",
    "\n",
    "# Let's parse the dates, too\n",
    "for match in pl_1516:\n",
    "    match['date'] = dt.datetime.strptime(match['date'], '%Y-%m-%d')\n",
    "    \n",
    "pl_1516[0:3]"
   ]
  },
  {
   "cell_type": "markdown",
   "metadata": {},
   "source": [
    "A model in `mezzala` is composed of 2 parts:\n",
    "\n",
    "* Model blocks (see `mezzala.blocks`)\n",
    "* An adapter (see `mezzala.adapters`)"
   ]
  },
  {
   "cell_type": "markdown",
   "metadata": {},
   "source": [
    "The model blocks determine which terms your model estimates. In general, you will want\n",
    "to estimate offensive and defensive strength for each team (`TeamStrength`) and \n",
    "as well as home advantage `HomeAdvantage`.\n",
    "\n",
    "The selected model blocks can be supplied to the model as a list:"
   ]
  },
  {
   "cell_type": "code",
   "execution_count": null,
   "metadata": {},
   "outputs": [],
   "source": [
    "blocks = [TeamStrength(), HomeAdvantage()]"
   ]
  },
  {
   "cell_type": "markdown",
   "metadata": {},
   "source": [
    "An adapter connects your model to the data source. In other words, it tells the model how find the information needed to fit.\n",
    "\n",
    "The information needed is determined by which model blocks are used. In our case,\n",
    "\n",
    "* All models require `home_goals` and `away_goals`\n",
    "* `TeamStrength` - requires `home_team` and `away_team`\n",
    "\n",
    "`HomeAdvantage` doesn't require any information, since it assumes all matches have equal home-field advantage by default."
   ]
  },
  {
   "cell_type": "code",
   "execution_count": null,
   "metadata": {},
   "outputs": [],
   "source": [
    "adapter = KeyAdapter(               # `KeyAdapter` = data['...']\n",
    "    home_team='team1',\n",
    "    away_team='team2',\n",
    "    home_goals=['score', 'ft', 0],  # Get nested fields with lists of fields\n",
    "    away_goals=['score', 'ft', 1],  # i.e. data['score']['ft'][1]\n",
    ")"
   ]
  },
  {
   "cell_type": "markdown",
   "metadata": {},
   "source": [
    "Pulling this together, we can construct a model from an adapter and blocks"
   ]
  },
  {
   "cell_type": "code",
   "execution_count": null,
   "metadata": {},
   "outputs": [
    {
     "name": "stderr",
     "output_type": "stream",
     "text": [
      "/Users/ben/code/mezzala/mezzala/models.py:135: RuntimeWarning: invalid value encountered in log\n",
      "  np.log(self._tau(home_goals, away_goals, home_rate, away_rate, rho))\n"
     ]
    }
   ],
   "source": [
    "model = DixonColes(adapter=adapter, blocks=blocks)\n",
    "model.fit(pl_1516)\n",
    "\n",
    "# All estimates should be valid numbers\n",
    "assert all(not np.isnan(x) for x in model.params.values())\n",
    "\n",
    "# Home advantage should be positive\n",
    "assert 1.0 < np.exp(model.params[HFA_KEY]) < 2.0"
   ]
  },
  {
   "cell_type": "code",
   "execution_count": null,
   "metadata": {},
   "outputs": [
    {
     "name": "stdout",
     "output_type": "stream",
     "text": [
      "OffenceParameterKey(label='Norwich City FC')         : 0.77\n",
      "OffenceParameterKey(label='Manchester United FC')    : 0.94\n",
      "OffenceParameterKey(label='Chelsea FC')              : 1.15\n",
      "OffenceParameterKey(label='Leicester City FC')       : 1.31\n",
      "OffenceParameterKey(label='Sunderland AFC')          : 0.94\n",
      "OffenceParameterKey(label='Tottenham Hotspur FC')    : 1.33\n",
      "OffenceParameterKey(label='Manchester City FC')      : 1.38\n",
      "OffenceParameterKey(label='Southampton FC')          : 1.14\n",
      "OffenceParameterKey(label='Stoke City FC')           : 0.81\n",
      "OffenceParameterKey(label='West Bromwich Albion FC') : 0.66\n",
      "OffenceParameterKey(label='Aston Villa FC')          : 0.54\n",
      "OffenceParameterKey(label='Swansea City FC')         : 0.82\n",
      "OffenceParameterKey(label='West Ham United FC')      : 1.27\n",
      "OffenceParameterKey(label='Crystal Palace FC')       : 0.76\n",
      "OffenceParameterKey(label='Arsenal FC')              : 1.25\n",
      "OffenceParameterKey(label='AFC Bournemouth')         : 0.89\n",
      "OffenceParameterKey(label='Everton FC')              : 1.16\n",
      "OffenceParameterKey(label='Watford FC')              : 0.78\n",
      "OffenceParameterKey(label='Liverpool FC')            : 1.23\n",
      "OffenceParameterKey(label='Newcastle United FC')     : 0.87\n",
      "DefenceParameterKey(label='Norwich City FC')         : 1.55\n",
      "DefenceParameterKey(label='Manchester United FC')    : 0.82\n",
      "DefenceParameterKey(label='Chelsea FC')              : 1.26\n",
      "DefenceParameterKey(label='Leicester City FC')       : 0.86\n",
      "DefenceParameterKey(label='Sunderland AFC')          : 1.46\n",
      "DefenceParameterKey(label='Tottenham Hotspur FC')    : 0.84\n",
      "DefenceParameterKey(label='Manchester City FC')      : 0.99\n",
      "DefenceParameterKey(label='Southampton FC')          : 0.97\n",
      "DefenceParameterKey(label='Stoke City FC')           : 1.28\n",
      "DefenceParameterKey(label='West Bromwich Albion FC') : 1.10\n",
      "DefenceParameterKey(label='Aston Villa FC')          : 1.75\n",
      "DefenceParameterKey(label='Swansea City FC')         : 1.21\n",
      "DefenceParameterKey(label='West Ham United FC')      : 1.22\n",
      "DefenceParameterKey(label='Crystal Palace FC')       : 1.19\n",
      "DefenceParameterKey(label='Arsenal FC')              : 0.86\n",
      "DefenceParameterKey(label='AFC Bournemouth')         : 1.57\n",
      "DefenceParameterKey(label='Everton FC')              : 1.32\n",
      "DefenceParameterKey(label='Watford FC')              : 1.17\n",
      "DefenceParameterKey(label='Liverpool FC')            : 1.19\n",
      "DefenceParameterKey(label='Newcastle United FC')     : 1.52\n",
      "ParameterKey(label='Home-field advantage')           : 1.23\n",
      "ParameterKey(label='Rho')                            : 0.94\n"
     ]
    }
   ],
   "source": [
    "param_keys = model.params.keys()\n",
    "param_key_len = max(len(str(k)) for k in param_keys)\n",
    "\n",
    "for k in param_keys:\n",
    "    key_str = str(k).ljust(param_key_len + 1)\n",
    "    print(f'{key_str}: {np.exp(model.params[k]):0.2f}')"
   ]
  },
  {
   "cell_type": "markdown",
   "metadata": {},
   "source": [
    "Making predictions for a single match"
   ]
  },
  {
   "cell_type": "code",
   "execution_count": null,
   "metadata": {},
   "outputs": [
    {
     "data": {
      "text/plain": [
       "[ScorelinePrediction(home_goals=0, away_goals=0, probability=0.05607098978860709),\n",
       " ScorelinePrediction(home_goals=0, away_goals=1, probability=0.045632138210651055),\n",
       " ScorelinePrediction(home_goals=0, away_goals=2, probability=0.01856835455844811),\n",
       " ScorelinePrediction(home_goals=0, away_goals=3, probability=0.005037148590563076),\n",
       " ScorelinePrediction(home_goals=0, away_goals=4, probability=0.0010248430674165848)]"
      ]
     },
     "execution_count": null,
     "metadata": {},
     "output_type": "execute_result"
    }
   ],
   "source": [
    "scorelines = model.predict_one({\n",
    "    'team1': 'Manchester City FC',\n",
    "    'team2': 'Swansea City FC',\n",
    "})\n",
    "\n",
    "scorelines[0:5]"
   ]
  },
  {
   "cell_type": "code",
   "execution_count": null,
   "metadata": {},
   "outputs": [
    {
     "data": {
      "text/plain": [
       "[OutcomePrediction(outcome=Outcomes(Home win), probability=0.664579565201895),\n",
       " OutcomePrediction(outcome=Outcomes(Draw), probability=0.1983374496050809),\n",
       " OutcomePrediction(outcome=Outcomes(Away win), probability=0.13708298519302461)]"
      ]
     },
     "execution_count": null,
     "metadata": {},
     "output_type": "execute_result"
    }
   ],
   "source": [
    "outcomes = scorelines_to_outcomes(scorelines)\n",
    "\n",
    "list(outcomes.values())"
   ]
  },
  {
   "cell_type": "markdown",
   "metadata": {},
   "source": [
    "Or for multiple matches"
   ]
  },
  {
   "cell_type": "code",
   "execution_count": null,
   "metadata": {},
   "outputs": [],
   "source": [
    "many_scorelines = model.predict([\n",
    "    {'team1': 'Manchester City FC',\n",
    "     'team2': 'Swansea City FC'},\n",
    "    {'team1': 'Manchester City FC',\n",
    "     'team2': 'West Ham United FC'}\n",
    "])"
   ]
  },
  {
   "cell_type": "markdown",
   "metadata": {},
   "source": [
    "What about a model with a different weighting method?\n",
    "\n",
    "By default, the `DixonColes` model weights all matches equally. However, it's more realistic to give matches\n",
    "closer to the current date a bigger weight than those a long time ago.\n",
    "\n",
    "The original Dixon-Coles paper suggests using an exponential weight, and we can use the same:"
   ]
  },
  {
   "cell_type": "code",
   "execution_count": null,
   "metadata": {},
   "outputs": [],
   "source": [
    "season_end_date = max(match['date'] for match in pl_1516)\n",
    "\n",
    "weight = ExponentialWeight(\n",
    "    # Value of `epsilon` is taken from the original paper\n",
    "    epsilon=-0.0065,  \n",
    "    key=lambda x: (season_end_date - x['date']).days\n",
    ")"
   ]
  },
  {
   "cell_type": "code",
   "execution_count": null,
   "metadata": {},
   "outputs": [
    {
     "data": {
      "text/plain": [
       "<mezzala.models.DixonColes at 0x11d522668>"
      ]
     },
     "execution_count": null,
     "metadata": {},
     "output_type": "execute_result"
    }
   ],
   "source": [
    "model_exp = DixonColes(\n",
    "    adapter=adapter,\n",
    "    blocks=blocks,\n",
    "    weight=weight\n",
    ")\n",
    "model_exp.fit(pl_1516)"
   ]
  },
  {
   "cell_type": "markdown",
   "metadata": {},
   "source": [
    "How much does that change the ratings at season-end?"
   ]
  },
  {
   "cell_type": "code",
   "execution_count": null,
   "metadata": {},
   "outputs": [
    {
     "name": "stdout",
     "output_type": "stream",
     "text": [
      "OffenceParameterKey(label='Norwich City FC')         : 0.77 -> 0.69 (0.90)\n",
      "OffenceParameterKey(label='Manchester United FC')    : 0.94 -> 0.92 (0.98)\n",
      "OffenceParameterKey(label='Chelsea FC')              : 1.15 -> 1.20 (1.04)\n",
      "OffenceParameterKey(label='Leicester City FC')       : 1.31 -> 1.25 (0.95)\n",
      "OffenceParameterKey(label='Sunderland AFC')          : 0.94 -> 0.99 (1.05)\n",
      "OffenceParameterKey(label='Tottenham Hotspur FC')    : 1.33 -> 1.34 (1.01)\n",
      "OffenceParameterKey(label='Manchester City FC')      : 1.38 -> 1.36 (0.98)\n",
      "OffenceParameterKey(label='Southampton FC')          : 1.14 -> 1.26 (1.11)\n",
      "OffenceParameterKey(label='Stoke City FC')           : 0.81 -> 0.82 (1.01)\n",
      "OffenceParameterKey(label='West Bromwich Albion FC') : 0.66 -> 0.60 (0.91)\n",
      "OffenceParameterKey(label='Aston Villa FC')          : 0.54 -> 0.49 (0.91)\n",
      "OffenceParameterKey(label='Swansea City FC')         : 0.82 -> 0.88 (1.08)\n",
      "OffenceParameterKey(label='West Ham United FC')      : 1.27 -> 1.33 (1.04)\n",
      "OffenceParameterKey(label='Crystal Palace FC')       : 0.76 -> 0.70 (0.92)\n",
      "OffenceParameterKey(label='Arsenal FC')              : 1.25 -> 1.25 (1.00)\n",
      "OffenceParameterKey(label='AFC Bournemouth')         : 0.89 -> 0.88 (0.99)\n",
      "OffenceParameterKey(label='Everton FC')              : 1.16 -> 1.02 (0.88)\n",
      "OffenceParameterKey(label='Watford FC')              : 0.78 -> 0.77 (0.99)\n",
      "OffenceParameterKey(label='Liverpool FC')            : 1.23 -> 1.33 (1.08)\n",
      "OffenceParameterKey(label='Newcastle United FC')     : 0.87 -> 0.93 (1.08)\n",
      "DefenceParameterKey(label='Norwich City FC')         : 1.55 -> 1.51 (0.97)\n",
      "DefenceParameterKey(label='Manchester United FC')    : 0.82 -> 0.83 (1.01)\n",
      "DefenceParameterKey(label='Chelsea FC')              : 1.26 -> 1.16 (0.92)\n",
      "DefenceParameterKey(label='Leicester City FC')       : 0.86 -> 0.68 (0.79)\n",
      "DefenceParameterKey(label='Sunderland AFC')          : 1.46 -> 1.22 (0.84)\n",
      "DefenceParameterKey(label='Tottenham Hotspur FC')    : 0.84 -> 0.95 (1.12)\n",
      "DefenceParameterKey(label='Manchester City FC')      : 0.99 -> 1.00 (1.01)\n",
      "DefenceParameterKey(label='Southampton FC')          : 0.97 -> 0.95 (0.98)\n",
      "DefenceParameterKey(label='Stoke City FC')           : 1.28 -> 1.42 (1.11)\n",
      "DefenceParameterKey(label='West Bromwich Albion FC') : 1.10 -> 1.04 (0.94)\n",
      "DefenceParameterKey(label='Aston Villa FC')          : 1.75 -> 1.83 (1.04)\n",
      "DefenceParameterKey(label='Swansea City FC')         : 1.21 -> 1.18 (0.97)\n",
      "DefenceParameterKey(label='West Ham United FC')      : 1.22 -> 1.33 (1.09)\n",
      "DefenceParameterKey(label='Crystal Palace FC')       : 1.19 -> 1.25 (1.05)\n",
      "DefenceParameterKey(label='Arsenal FC')              : 0.86 -> 0.85 (0.98)\n",
      "DefenceParameterKey(label='AFC Bournemouth')         : 1.57 -> 1.61 (1.02)\n",
      "DefenceParameterKey(label='Everton FC')              : 1.32 -> 1.33 (1.01)\n",
      "DefenceParameterKey(label='Watford FC')              : 1.17 -> 1.33 (1.14)\n",
      "DefenceParameterKey(label='Liverpool FC')            : 1.19 -> 1.18 (1.00)\n",
      "DefenceParameterKey(label='Newcastle United FC')     : 1.52 -> 1.37 (0.90)\n",
      "ParameterKey(label='Home-field advantage')           : 1.23 -> 1.30 (1.05)\n",
      "ParameterKey(label='Rho')                            : 0.94 -> 0.91 (0.97)\n"
     ]
    }
   ],
   "source": [
    "for k in param_keys:\n",
    "    key_str = str(k).ljust(param_key_len + 1)\n",
    "    model_param = np.exp(model.params[k])\n",
    "    model_exp_param = np.exp(model_exp.params[k])\n",
    "    print(f'{key_str}: {model_param:0.2f} -> {model_exp_param:0.2f} ({model_exp_param/model_param:0.2f})')"
   ]
  },
  {
   "cell_type": "code",
   "execution_count": null,
   "metadata": {},
   "outputs": [],
   "source": []
  }
 ],
 "metadata": {
  "kernelspec": {
   "display_name": "Python 3",
   "language": "python",
   "name": "python3"
  }
 },
 "nbformat": 4,
 "nbformat_minor": 2
}
