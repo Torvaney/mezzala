{
 "cells": [
  {
   "cell_type": "code",
   "execution_count": null,
   "metadata": {},
   "outputs": [],
   "source": [
    "# default_exp __init__"
   ]
  },
  {
   "cell_type": "markdown",
   "metadata": {},
   "source": [
    "# Core\n",
    "\n",
    "> Team-strength models in Python"
   ]
  },
  {
   "cell_type": "code",
   "execution_count": null,
   "metadata": {},
   "outputs": [],
   "source": [
    "#hide\n",
    "from nbdev.showdoc import *"
   ]
  },
  {
   "cell_type": "code",
   "execution_count": null,
   "metadata": {},
   "outputs": [],
   "source": [
    "import json\n",
    "import datetime as dt\n",
    "import numpy as np\n",
    "import pprint"
   ]
  },
  {
   "cell_type": "code",
   "execution_count": null,
   "metadata": {},
   "outputs": [],
   "source": [
    "#export\n",
    "\n",
    "# For now, just re-export everything\n",
    "from mezzala.adapters import *\n",
    "from mezzala.blocks import *\n",
    "from mezzala.models import *\n",
    "from mezzala.weights import *\n",
    "from mezzala.parameters import *"
   ]
  },
  {
   "cell_type": "markdown",
   "metadata": {},
   "source": [
    "Let's demo"
   ]
  },
  {
   "cell_type": "code",
   "execution_count": null,
   "metadata": {},
   "outputs": [
    {
     "data": {
      "text/plain": [
       "[{'date': datetime.datetime(2015, 8, 8, 0, 0),\n",
       "  'team1': 'Manchester United FC',\n",
       "  'team2': 'Tottenham Hotspur FC',\n",
       "  'score': {'ft': [1, 0]}},\n",
       " {'date': datetime.datetime(2015, 8, 8, 0, 0),\n",
       "  'team1': 'AFC Bournemouth',\n",
       "  'team2': 'Aston Villa FC',\n",
       "  'score': {'ft': [0, 1]}},\n",
       " {'date': datetime.datetime(2015, 8, 8, 0, 0),\n",
       "  'team1': 'Leicester City FC',\n",
       "  'team2': 'Sunderland AFC',\n",
       "  'score': {'ft': [4, 2]}}]"
      ]
     },
     "execution_count": null,
     "metadata": {},
     "output_type": "execute_result"
    }
   ],
   "source": [
    "with open('../data/premier-league-1516.json', 'r') as f:\n",
    "    pl_1516 = json.load(f)\n",
    "\n",
    "# Let's parse the dates, too\n",
    "for match in pl_1516:\n",
    "    match['date'] = dt.datetime.strptime(match['date'], '%Y-%m-%d')\n",
    "    \n",
    "pl_1516[0:3]"
   ]
  },
  {
   "cell_type": "markdown",
   "metadata": {},
   "source": [
    "A model in `mezzala` is composed of 2 parts:\n",
    "\n",
    "* Model blocks (see `mezzala.blocks`)\n",
    "* An adapter (see `mezzala.adapters`)"
   ]
  },
  {
   "cell_type": "markdown",
   "metadata": {},
   "source": [
    "The model blocks determine which terms your model estimates. In general, you will want\n",
    "to estimate offensive and defensive strength for each team (`TeamStrength`) and \n",
    "as well as home advantage `HomeAdvantage`.\n",
    "\n",
    "The selected model blocks can be supplied to the model as a list:"
   ]
  },
  {
   "cell_type": "code",
   "execution_count": null,
   "metadata": {},
   "outputs": [],
   "source": [
    "blocks = [TeamStrength(), HomeAdvantage()]"
   ]
  },
  {
   "cell_type": "markdown",
   "metadata": {},
   "source": [
    "An adapter connects your model to the data source. In other words, it tells the model how find the information needed to fit.\n",
    "\n",
    "The information needed is determined by which model blocks are used. In our case,\n",
    "\n",
    "* All models require `home_goals` and `away_goals`\n",
    "* `TeamStrength` - requires `home_team` and `away_team`\n",
    "\n",
    "`HomeAdvantage` doesn't require any information, since it assumes all matches have equal home-field advantage by default."
   ]
  },
  {
   "cell_type": "code",
   "execution_count": null,
   "metadata": {},
   "outputs": [],
   "source": [
    "adapter = KeyAdapter(               # `KeyAdapter` = data['...']\n",
    "    home_team='team1',\n",
    "    away_team='team2',\n",
    "    home_goals=['score', 'ft', 0],  # Get nested fields with lists of fields\n",
    "    away_goals=['score', 'ft', 1],  # i.e. data['score']['ft'][1]\n",
    ")"
   ]
  },
  {
   "cell_type": "markdown",
   "metadata": {},
   "source": [
    "Pulling this together, we can construct a model from an adapter and blocks"
   ]
  },
  {
   "cell_type": "code",
   "execution_count": null,
   "metadata": {},
   "outputs": [
    {
     "name": "stderr",
     "output_type": "stream",
     "text": [
      "/Users/ben/code/mezzala/mezzala/models.py:134: RuntimeWarning: invalid value encountered in log\n",
      "  np.log(self._tau(home_goals, away_goals, home_rate, away_rate, rho))\n"
     ]
    },
    {
     "name": "stdout",
     "output_type": "stream",
     "text": [
      " "
     ]
    }
   ],
   "source": [
    "%%prun\n",
    "model = DixonColes(adapter=adapter, blocks=blocks)\n",
    "model.fit(pl_1516)\n",
    "\n",
    "# All estimates should be valid numbers\n",
    "assert all(not np.isnan(x) for x in model.params.values())\n",
    "\n",
    "# Home advantage should be positive\n",
    "assert 1.0 < np.exp(model.params[HFA_KEY]) < 2.0"
   ]
  },
  {
   "cell_type": "code",
   "execution_count": null,
   "metadata": {},
   "outputs": [],
   "source": [
    "param_keys = model.params.keys()\n",
    "param_key_len = max(len(str(k)) for k in param_keys)\n",
    "\n",
    "for k in param_keys:\n",
    "    key_str = str(k).ljust(param_key_len + 1)\n",
    "    print(f'{key_str}: {np.exp(model.params[k]):0.2f}')"
   ]
  },
  {
   "cell_type": "markdown",
   "metadata": {},
   "source": [
    "Making predictions for a single match"
   ]
  },
  {
   "cell_type": "code",
   "execution_count": null,
   "metadata": {},
   "outputs": [],
   "source": [
    "scorelines = model.predict_one({\n",
    "    'team1': 'Manchester City FC',\n",
    "    'team2': 'Swansea City FC',\n",
    "})\n",
    "\n",
    "scorelines[0:5]"
   ]
  },
  {
   "cell_type": "code",
   "execution_count": null,
   "metadata": {},
   "outputs": [],
   "source": [
    "outcomes = scorelines_to_outcomes(scorelines)\n",
    "\n",
    "list(outcomes.values())"
   ]
  },
  {
   "cell_type": "markdown",
   "metadata": {},
   "source": [
    "Or for multiple matches"
   ]
  },
  {
   "cell_type": "code",
   "execution_count": null,
   "metadata": {},
   "outputs": [],
   "source": [
    "many_scorelines = model.predict([\n",
    "    {'team1': 'Manchester City FC',\n",
    "     'team2': 'Swansea City FC'},\n",
    "    {'team1': 'Manchester City FC',\n",
    "     'team2': 'West Ham United FC'}\n",
    "])"
   ]
  },
  {
   "cell_type": "markdown",
   "metadata": {},
   "source": [
    "What about a model with a different weighting method?\n",
    "\n",
    "By default, the `DixonColes` model weights all matches equally. However, it's more realistic to give matches\n",
    "closer to the current date a bigger weight than those a long time ago.\n",
    "\n",
    "The original Dixon-Coles paper suggests using an exponential weight, and we can use the same:"
   ]
  },
  {
   "cell_type": "code",
   "execution_count": null,
   "metadata": {},
   "outputs": [],
   "source": [
    "season_end_date = max(match['date'] for match in pl_1516)\n",
    "\n",
    "weight = ExponentialWeight(\n",
    "    # Value of `epsilon` is taken from the original paper\n",
    "    epsilon=-0.0065,  \n",
    "    key=lambda x: (season_end_date - x['date']).days\n",
    ")"
   ]
  },
  {
   "cell_type": "code",
   "execution_count": null,
   "metadata": {},
   "outputs": [],
   "source": [
    "model_exp = DixonColes(\n",
    "    adapter=adapter,\n",
    "    blocks=blocks,\n",
    "    weight=weight\n",
    ")\n",
    "model_exp.fit(pl_1516)"
   ]
  },
  {
   "cell_type": "markdown",
   "metadata": {},
   "source": [
    "How much does that change the ratings at season-end?"
   ]
  },
  {
   "cell_type": "code",
   "execution_count": null,
   "metadata": {},
   "outputs": [],
   "source": [
    "for k in param_keys:\n",
    "    key_str = str(k).ljust(param_key_len + 1)\n",
    "    model_param = np.exp(model.params[k])\n",
    "    model_exp_param = np.exp(model_exp.params[k])\n",
    "    print(f'{key_str}: {model_param:0.2f} -> {model_exp_param:0.2f} ({model_exp_param/model_param:0.2f})')"
   ]
  },
  {
   "cell_type": "code",
   "execution_count": null,
   "metadata": {},
   "outputs": [],
   "source": []
  }
 ],
 "metadata": {
  "kernelspec": {
   "display_name": "Python 3",
   "language": "python",
   "name": "python3"
  }
 },
 "nbformat": 4,
 "nbformat_minor": 2
}
