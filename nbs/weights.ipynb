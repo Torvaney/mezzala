{
 "cells": [
  {
   "cell_type": "code",
   "execution_count": null,
   "id": "7f647236",
   "metadata": {},
   "outputs": [],
   "source": [
    "# default_exp weights"
   ]
  },
  {
   "cell_type": "markdown",
   "id": "9d64a591",
   "metadata": {},
   "source": [
    "# Weights"
   ]
  },
  {
   "cell_type": "code",
   "execution_count": null,
   "id": "690e4a2b",
   "metadata": {},
   "outputs": [],
   "source": [
    "#hide\n",
    "from nbdev.showdoc import *"
   ]
  },
  {
   "cell_type": "code",
   "execution_count": null,
   "id": "786cccce",
   "metadata": {},
   "outputs": [],
   "source": [
    "#export\n",
    "import numpy as np"
   ]
  },
  {
   "cell_type": "code",
   "execution_count": null,
   "id": "73429c3f",
   "metadata": {},
   "outputs": [],
   "source": [
    "#export\n",
    "\n",
    "\n",
    "class UniformWeight:\n",
    "    \"\"\"\n",
    "    Weight all observations equally\n",
    "    \"\"\"\n",
    "    @staticmethod\n",
    "    def __call__(row):\n",
    "        return 1.0"
   ]
  },
  {
   "cell_type": "code",
   "execution_count": null,
   "id": "9313bfbc",
   "metadata": {},
   "outputs": [],
   "source": [
    "#export\n",
    "\n",
    "\n",
    "class ExponentialWeight:\n",
    "    \"\"\"\n",
    "    Weight observations with exponential decay\n",
    "    \"\"\"\n",
    "    def __init__(self, epsilon, key):\n",
    "        self.epsilon = epsilon\n",
    "        self.key = key\n",
    "\n",
    "    def __call__(self, row):\n",
    "        return np.exp(self.epsilon*self.key(row))"
   ]
  },
  {
   "cell_type": "code",
   "execution_count": null,
   "id": "21bb58e4",
   "metadata": {},
   "outputs": [],
   "source": [
    "#export\n",
    "\n",
    "\n",
    "class KeyWeight:\n",
    "    \"\"\"\n",
    "    Weight observations with an arbitrary key function\n",
    "    \"\"\"\n",
    "    def __init__(self, key):\n",
    "        self.key = key\n",
    "\n",
    "    def __call__(self, row):\n",
    "        return self.key(row)"
   ]
  },
  {
   "cell_type": "code",
   "execution_count": null,
   "id": "76cf28b0",
   "metadata": {},
   "outputs": [],
   "source": []
  }
 ],
 "metadata": {
  "kernelspec": {
   "display_name": "Python 3",
   "language": "python",
   "name": "python3"
  }
 },
 "nbformat": 4,
 "nbformat_minor": 5
}
