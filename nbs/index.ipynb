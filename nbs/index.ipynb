{
 "cells": [
  {
   "cell_type": "markdown",
   "metadata": {},
   "source": [
    "# Mezzala\n",
    "\n",
    "> Models for estimating football (soccer) team-strength"
   ]
  },
  {
   "cell_type": "markdown",
   "metadata": {},
   "source": [
    "## Install"
   ]
  },
  {
   "cell_type": "markdown",
   "metadata": {},
   "source": [
    "`pip install mezzala`"
   ]
  },
  {
   "cell_type": "markdown",
   "metadata": {},
   "source": [
    "## How to use"
   ]
  },
  {
   "cell_type": "code",
   "execution_count": null,
   "metadata": {},
   "outputs": [],
   "source": [
    "import mezzala"
   ]
  },
  {
   "cell_type": "markdown",
   "metadata": {},
   "source": [
    "Fitting a Dixon-Coles team strength model:"
   ]
  },
  {
   "cell_type": "markdown",
   "metadata": {},
   "source": [
    "First, we need to get some data"
   ]
  },
  {
   "cell_type": "code",
   "execution_count": null,
   "metadata": {},
   "outputs": [
    {
     "data": {
      "text/plain": [
       "[{'date': '2016-08-13',\n",
       "  'team1': 'Hull City AFC',\n",
       "  'team2': 'Leicester City FC',\n",
       "  'score': {'ft': [2, 1]}},\n",
       " {'date': '2016-08-13',\n",
       "  'team1': 'Everton FC',\n",
       "  'team2': 'Tottenham Hotspur FC',\n",
       "  'score': {'ft': [1, 1]}},\n",
       " {'date': '2016-08-13',\n",
       "  'team1': 'Crystal Palace FC',\n",
       "  'team2': 'West Bromwich Albion FC',\n",
       "  'score': {'ft': [0, 1]}}]"
      ]
     },
     "execution_count": null,
     "metadata": {},
     "output_type": "execute_result"
    }
   ],
   "source": [
    "import itertools\n",
    "import json\n",
    "import urllib.request\n",
    "\n",
    "\n",
    "# Use 2016/17 Premier League data from the openfootball repo\n",
    "url = 'https://raw.githubusercontent.com/openfootball/football.json/master/2016-17/en.1.json'\n",
    "\n",
    "\n",
    "response = urllib.request.urlopen(url)\n",
    "data_raw = json.loads(response.read())\n",
    "\n",
    "# Reshape the data to just get the matches\n",
    "data = list(itertools.chain(*[d['matches'] for d in data_raw['rounds']]))\n",
    "\n",
    "data[0:3]"
   ]
  },
  {
   "cell_type": "markdown",
   "metadata": {},
   "source": [
    "### Fitting a model"
   ]
  },
  {
   "cell_type": "markdown",
   "metadata": {},
   "source": [
    "To fit a model with mezzala, you need to create an \"adapter\". Adapters are used to connect a model to a data source.\n",
    "\n",
    "Because our data is a list of dicts, we are going to use a `KeyAdapter`."
   ]
  },
  {
   "cell_type": "code",
   "execution_count": null,
   "metadata": {},
   "outputs": [
    {
     "data": {
      "text/plain": [
       "'Hull City AFC'"
      ]
     },
     "execution_count": null,
     "metadata": {},
     "output_type": "execute_result"
    }
   ],
   "source": [
    "adapter = mezzala.KeyAdapter(       # `KeyAdapter` = datum['...']\n",
    "    home_team='team1',\n",
    "    away_team='team2',\n",
    "    home_goals=['score', 'ft', 0],  # Get nested fields with lists of fields\n",
    "    away_goals=['score', 'ft', 1],  # i.e. datum['score']['ft'][1]\n",
    ")\n",
    "\n",
    "# You'll never need to call the methods on an \n",
    "# adapter directly, but just to show that it \n",
    "# works as expected:\n",
    "adapter.home_team(data[0])"
   ]
  },
  {
   "cell_type": "markdown",
   "metadata": {},
   "source": [
    "Once we have an adapter for our specific data source, we can fit the model:"
   ]
  },
  {
   "cell_type": "code",
   "execution_count": null,
   "metadata": {},
   "outputs": [
    {
     "data": {
      "text/plain": [
       "DixonColes(adapter=KeyAdapter(home_goals=['score', 'ft', 0], away_goals=['score', 'ft', 1], home_team='team1', away_team='team2'), blocks=[TeamStrength(), BaseRate(), HomeAdvantage()]), weight=UniformWeight()"
      ]
     },
     "execution_count": null,
     "metadata": {},
     "output_type": "execute_result"
    }
   ],
   "source": [
    "model = mezzala.DixonColes(adapter=adapter)\n",
    "model.fit(data)"
   ]
  },
  {
   "cell_type": "markdown",
   "metadata": {},
   "source": [
    "### Making predictions"
   ]
  },
  {
   "cell_type": "markdown",
   "metadata": {},
   "source": [
    "By default, you only need to supply the home and away team to get predictions. This should be supplied in the same format as the training data.\n",
    "\n",
    "`DixonColes` has two methods for making predictions:\n",
    "\n",
    "* `predict_one` - for predicting a single match\n",
    "* `predict` - for predicting multiple matches"
   ]
  },
  {
   "cell_type": "code",
   "execution_count": null,
   "metadata": {},
   "outputs": [
    {
     "data": {
      "text/plain": [
       "[ScorelinePrediction(home_goals=0, away_goals=0, probability=0.020371535300353828),\n",
       " ScorelinePrediction(home_goals=0, away_goals=1, probability=0.0159355409561689),\n",
       " ScorelinePrediction(home_goals=0, away_goals=2, probability=0.006232752264904788),\n",
       " ScorelinePrediction(home_goals=0, away_goals=3, probability=0.0016251807161750751),\n",
       " ScorelinePrediction(home_goals=0, away_goals=4, probability=0.00031782255831417364)]"
      ]
     },
     "execution_count": null,
     "metadata": {},
     "output_type": "execute_result"
    }
   ],
   "source": [
    "match_to_predict = {\n",
    "    'team1': 'Manchester City FC',\n",
    "    'team2': 'Swansea City FC',\n",
    "}\n",
    "\n",
    "scorelines = model.predict_one(match_to_predict)\n",
    "\n",
    "scorelines[0:5]"
   ]
  },
  {
   "cell_type": "markdown",
   "metadata": {},
   "source": [
    "Each of these methods return predictions in the form of `ScorelinePredictions`. \n",
    "\n",
    "* `predict_one` returns a list of `ScorelinePredictions`\n",
    "* `predict` returns a list of `ScorelinePredictions` for each predicted match (i.e. a list of lists)\n",
    "\n",
    "However, it can sometimes be more useful to have predictions in the form of match _outcomes_. Mezzala exposes the `scorelines_to_outcomes` function for this purpose:"
   ]
  },
  {
   "cell_type": "code",
   "execution_count": null,
   "metadata": {},
   "outputs": [
    {
     "data": {
      "text/plain": [
       "{Outcomes('Home win'): OutcomePrediction(outcome=Outcomes('Home win'), probability=0.8287625653027142),\n",
       " Outcomes('Draw'): OutcomePrediction(outcome=Outcomes('Draw'), probability=0.10965025769892027),\n",
       " Outcomes('Away win'): OutcomePrediction(outcome=Outcomes('Away win'), probability=0.061587176998363344)}"
      ]
     },
     "execution_count": null,
     "metadata": {},
     "output_type": "execute_result"
    }
   ],
   "source": [
    "mezzala.scorelines_to_outcomes(scorelines)"
   ]
  },
  {
   "cell_type": "markdown",
   "metadata": {},
   "source": [
    "### Extending the model\n",
    "\n",
    "It's possible to fit more sophisticated models with mezzala, using **weights** and **model blocks**\n",
    "\n",
    "#### Weights\n",
    "\n",
    "You can weight individual data points by supplying a function (or callable) to the `weight` argument to `DixonColes`:"
   ]
  },
  {
   "cell_type": "code",
   "execution_count": null,
   "metadata": {},
   "outputs": [
    {
     "data": {
      "text/plain": [
       "DixonColes(adapter=KeyAdapter(home_goals=['score', 'ft', 0], away_goals=['score', 'ft', 1], home_team='team1', away_team='team2'), blocks=[TeamStrength(), BaseRate(), HomeAdvantage()]), weight=<function <lambda> at 0x127567510>"
      ]
     },
     "execution_count": null,
     "metadata": {},
     "output_type": "execute_result"
    }
   ],
   "source": [
    "mezzala.DixonColes(\n",
    "    adapter=adapter,\n",
    "    # By default, all data points are weighted equally,\n",
    "    # which is equivalent to:\n",
    "    weight=lambda x: 1\n",
    ")"
   ]
  },
  {
   "cell_type": "markdown",
   "metadata": {},
   "source": [
    "Mezzala also provides an `ExponentialWeight` for the purpose of time-discounting:"
   ]
  },
  {
   "cell_type": "code",
   "execution_count": null,
   "metadata": {},
   "outputs": [
    {
     "data": {
      "text/plain": [
       "DixonColes(adapter=KeyAdapter(home_goals=['score', 'ft', 0], away_goals=['score', 'ft', 1], home_team='team1', away_team='team2'), blocks=[TeamStrength(), BaseRate(), HomeAdvantage()]), weight=ExponentialWeight(epsilon=-0.0065, key=<function <lambda> at 0x12749a7b8>)"
      ]
     },
     "execution_count": null,
     "metadata": {},
     "output_type": "execute_result"
    }
   ],
   "source": [
    "mezzala.DixonColes(\n",
    "    adapter=adapter,\n",
    "    weight=mezzala.ExponentialWeight(\n",
    "        epsilon=-0.0065,               # Decay rate\n",
    "        key=lambda x: x['days_ago']\n",
    "    )\n",
    ")"
   ]
  },
  {
   "cell_type": "markdown",
   "metadata": {},
   "source": [
    "#### Model blocks\n",
    "\n",
    "Model \"blocks\" define the calculation and estimation of home and away goalscoring rates."
   ]
  },
  {
   "cell_type": "code",
   "execution_count": null,
   "metadata": {},
   "outputs": [
    {
     "data": {
      "text/plain": [
       "DixonColes(adapter=KeyAdapter(home_goals=['score', 'ft', 0], away_goals=['score', 'ft', 1], home_team='team1', away_team='team2'), blocks=[TeamStrength(), HomeAdvantage(), BaseRate()]), weight=UniformWeight()"
      ]
     },
     "execution_count": null,
     "metadata": {},
     "output_type": "execute_result"
    }
   ],
   "source": [
    "mezzala.DixonColes(\n",
    "    adapter=adapter,\n",
    "    # By default, only team strength and home advantage,\n",
    "    # is estimated:\n",
    "    blocks=[\n",
    "        mezzala.blocks.HomeAdvantage(),\n",
    "        mezzala.blocks.TeamStrength(),\n",
    "        mezzala.blocks.BaseRate(),      # Adds \"average goalscoring rate\" as a distinct parameter\n",
    "    ]\n",
    ")"
   ]
  },
  {
   "cell_type": "markdown",
   "metadata": {},
   "source": [
    "To add custom parameters (e.g. per-league home advantage), you need to add additional model blocks."
   ]
  }
 ],
 "metadata": {
  "kernelspec": {
   "display_name": "Python 3",
   "language": "python",
   "name": "python3"
  }
 },
 "nbformat": 4,
 "nbformat_minor": 2
}
