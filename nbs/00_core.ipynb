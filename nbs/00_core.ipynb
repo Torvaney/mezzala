{
 "cells": [
  {
   "cell_type": "code",
   "execution_count": null,
   "metadata": {},
   "outputs": [],
   "source": [
    "# default_exp __init__"
   ]
  },
  {
   "cell_type": "markdown",
   "metadata": {},
   "source": [
    "# Core\n",
    "\n",
    "> I guess we'll do everything in one notebook to start with??"
   ]
  },
  {
   "cell_type": "code",
   "execution_count": null,
   "metadata": {},
   "outputs": [],
   "source": [
    "#hide\n",
    "from nbdev.showdoc import *"
   ]
  },
  {
   "cell_type": "code",
   "execution_count": null,
   "metadata": {},
   "outputs": [],
   "source": [
    "import datetime as dt\n",
    "import pprint"
   ]
  },
  {
   "cell_type": "code",
   "execution_count": null,
   "metadata": {},
   "outputs": [],
   "source": [
    "#export\n",
    "import abc\n",
    "import collections\n",
    "import dataclasses\n",
    "import itertools\n",
    "import typing\n",
    "import functools\n",
    "import json\n",
    "\n",
    "import numpy as np\n",
    "import scipy.stats\n",
    "import scipy.optimize"
   ]
  },
  {
   "cell_type": "markdown",
   "metadata": {},
   "source": [
    "## Weights"
   ]
  },
  {
   "cell_type": "code",
   "execution_count": null,
   "metadata": {},
   "outputs": [],
   "source": [
    "#export\n",
    "\n",
    "class UniformWeight:\n",
    "    @staticmethod\n",
    "    def __call__(row):\n",
    "        return 1.0\n",
    "\n",
    "\n",
    "class ExponentialWeight:\n",
    "    def __init__(self, epsilon, key):\n",
    "        self.epsilon = epsilon\n",
    "        self.key = key\n",
    "\n",
    "    def __call__(self, row):\n",
    "        return np.exp(self.epsilon*self.key(row))"
   ]
  },
  {
   "cell_type": "markdown",
   "metadata": {},
   "source": [
    "## Parameter keys"
   ]
  },
  {
   "cell_type": "code",
   "execution_count": null,
   "metadata": {},
   "outputs": [],
   "source": [
    "#export\n",
    "\n",
    "@dataclasses.dataclass(frozen=True)\n",
    "class DixonColesParameterKey:\n",
    "    label: typing.Hashable\n",
    "\n",
    "\n",
    "# Model constants\n",
    "RHO_KEY = DixonColesParameterKey('Rho')\n",
    "HFA_KEY = DixonColesParameterKey('Home-field advantage')\n",
    "AVG_KEY = DixonColesParameterKey('Average rate')"
   ]
  },
  {
   "cell_type": "markdown",
   "metadata": {},
   "source": [
    "## Data Adapters"
   ]
  },
  {
   "cell_type": "code",
   "execution_count": null,
   "metadata": {},
   "outputs": [],
   "source": [
    "#export\n",
    "\n",
    "\n",
    "class KeyAdapter:\n",
    "    def __init__(self, home_team, away_team, home_goals, away_goals):\n",
    "        self._home_team = home_team\n",
    "        self._away_team = away_team\n",
    "        self._home_goals = home_goals\n",
    "        self._away_goals = away_goals\n",
    "\n",
    "    def _get_in(self, row, item):\n",
    "        if isinstance(item, list):\n",
    "            return functools.reduce(lambda d, i: d[i], item, row)\n",
    "        return row[item]\n",
    "\n",
    "    def home_team(self, row):\n",
    "        return self._get_in(row, self._home_team)\n",
    "\n",
    "    def away_team(self, row):\n",
    "        return self._get_in(row, self._away_team)\n",
    "\n",
    "    def home_goals(self, row):\n",
    "        return self._get_in(row, self._home_goals)\n",
    "\n",
    "    def away_goals(self, row):\n",
    "        return self._get_in(row, self._away_goals)      "
   ]
  },
  {
   "cell_type": "code",
   "execution_count": null,
   "metadata": {},
   "outputs": [],
   "source": [
    "#export\n",
    "\n",
    "\n",
    "class AttributeAdapter:\n",
    "    def __init__(self, home_team, away_team, home_goals, away_goals):\n",
    "        self._home_team = home_team\n",
    "        self._away_team = away_team\n",
    "        self._home_goals = home_goals\n",
    "        self._away_goals = away_goals\n",
    "\n",
    "    def home_team(self, row):\n",
    "        return getattr(row, self._home_team)\n",
    "\n",
    "    def away_team(self, row):\n",
    "        return getattr(row, self._away_team)\n",
    "\n",
    "    def home_goals(self, row):\n",
    "        return getattr(row, self._home_goals)\n",
    "\n",
    "    def away_goals(self, row):\n",
    "        return getattr(row, self._away_goals)"
   ]
  },
  {
   "cell_type": "code",
   "execution_count": null,
   "metadata": {},
   "outputs": [],
   "source": [
    "#export\n",
    "\n",
    "\n",
    "class LumpedAdapter:\n",
    "    \"\"\" Lump teams who appear below `min_matches` times (default 10) into one team \"\"\"\n",
    "\n",
    "    def __init__(self, base_adapter, data, min_matches=10, placeholder=DixonColesParameterKey('Other team')):\n",
    "        self.base_adapter = base_adapter\n",
    "        self.min_matches = min_matches\n",
    "        self.placeholder = placeholder\n",
    "\n",
    "        self.match_count = None\n",
    "        self.train(data)\n",
    "        \n",
    "    def home_team(self, row):\n",
    "        home_team = self.base_adapter.home_team(row)\n",
    "        if self.match_count[home_team] <= self.min_matches:\n",
    "            return self.placeholder\n",
    "        return home_team\n",
    "\n",
    "    def away_team(self, row):\n",
    "        away_team = self.base_adapter.away_team(row)\n",
    "        if self.match_count[away_team] <= self.min_matches:\n",
    "            return self.placeholder\n",
    "        return away_team\n",
    "\n",
    "    def home_goals(self, row):\n",
    "        return self.base_adapter.home_goals(row)\n",
    "\n",
    "    def away_goals(self, row):\n",
    "        return self.base_adapter.away_goals(row)\n",
    "\n",
    "    def fit(self, data):\n",
    "        home_match_count = collections.Counter(self.base_adapter.home_team(row) for row in data)\n",
    "        away_match_count = collections.Counter(self.base_adapter.away_team(row) for row in data)\n",
    "        self.match_count = home_match_count + away_match_count"
   ]
  },
  {
   "cell_type": "markdown",
   "metadata": {},
   "source": [
    "## Modelling"
   ]
  },
  {
   "cell_type": "code",
   "execution_count": null,
   "metadata": {},
   "outputs": [],
   "source": [
    "#export\n",
    "\n",
    "\n",
    "class DixonColes:\n",
    "    def __init__(self, adapter, blocks, weight=UniformWeight(), params=None):\n",
    "        self.params = params\n",
    "        self.adapter = adapter\n",
    "        self.weight = weight\n",
    "        self._blocks = blocks\n",
    "        \n",
    "    @property\n",
    "    def blocks(self):\n",
    "        # Make sure blocks are always in the correct order\n",
    "        return sorted(self._blocks, key=lambda x: -x.PRIORITY)\n",
    "\n",
    "    def home_goals(self, row):\n",
    "        \"\"\" Returns home goals scored \"\"\"\n",
    "        return self.adapter.home_goals(row)\n",
    "\n",
    "    def away_goals(self, row):\n",
    "        \"\"\" Returns away goals scored \"\"\"\n",
    "        return self.adapter.away_goals(row)\n",
    "\n",
    "    def parse_params(self, data):\n",
    "        \"\"\" Returns a tuple of (parameter_names, [constraints]) \"\"\"\n",
    "        base_params = [RHO_KEY]\n",
    "        block_params = list(itertools.chain(*[b.param_keys(self.adapter, data) for b in self.blocks]))\n",
    "        return (\n",
    "            block_params + base_params,\n",
    "            list(itertools.chain(*[b.constraints(self.adapter, data) for b in self.blocks]))\n",
    "        )\n",
    "\n",
    "    def home_rate(self, params, row):\n",
    "        \"\"\" Returns home goalscoring rate \"\"\"\n",
    "        terms = itertools.chain(*[b.home_terms(self.adapter, row) for b in self.blocks])\n",
    "        return np.exp(sum(params[t] for t in terms))\n",
    "\n",
    "    def away_rate(self, params, row):\n",
    "        \"\"\" Returns away goalscoring rate \"\"\"\n",
    "        terms = itertools.chain(*[b.away_terms(self.adapter, row) for b in self.blocks])\n",
    "        return np.exp(sum(params[t] for t in terms))\n",
    "    \n",
    "    # Core methods\n",
    "\n",
    "    @staticmethod\n",
    "    def _assign_params(param_keys, param_values):\n",
    "        return dict(zip(param_keys, param_values))\n",
    "\n",
    "    @staticmethod\n",
    "    def _tau(home_goals, away_goals, home_rate, away_rate, rho):\n",
    "        tau = np.ones(len(home_goals))\n",
    "        tau = np.where((home_goals == 0) & (away_goals == 0), 1 - home_rate*away_rate*rho, tau)\n",
    "        tau = np.where((home_goals == 0) & (away_goals == 1), 1 + home_rate*rho, tau)\n",
    "        tau = np.where((home_goals == 1) & (away_goals == 0), 1 + away_rate*rho, tau)\n",
    "        tau = np.where((home_goals == 1) & (away_goals == 1), 1 - rho, tau)\n",
    "        return tau\n",
    "\n",
    "    def _log_like(self, home_goals, away_goals, home_rate, away_rate, params):\n",
    "        rho = params[RHO_KEY]\n",
    "        return (\n",
    "            scipy.stats.poisson.logpmf(home_goals, home_rate) +\n",
    "            scipy.stats.poisson.logpmf(away_goals, away_rate) +\n",
    "            np.log(self._tau(home_goals, away_goals, home_rate, away_rate, rho))\n",
    "        )\n",
    "\n",
    "    def objective_fn(self, data, param_keys, xs):\n",
    "        params = self._assign_params(param_keys, xs)\n",
    "\n",
    "        home_goals, away_goals = np.empty(len(data)), np.empty(len(data))\n",
    "        home_rate, away_rate = np.empty(len(data)), np.empty(len(data))\n",
    "        weights = np.empty(len(data))\n",
    "\n",
    "        # NOTE: Should data adapter define the iteration?\n",
    "        # E.g. dataframe adapter?\n",
    "        for i, row in enumerate(data):\n",
    "            home_goals[i] = self.home_goals(row)\n",
    "            away_goals[i] = self.away_goals(row)\n",
    "            home_rate[i] = self.home_rate(params, row)\n",
    "            away_rate[i] = self.away_rate(params, row)\n",
    "            weights[i] = self.weight(row)\n",
    "\n",
    "        log_like = self._log_like(home_goals, away_goals, home_rate, away_rate, params)\n",
    "\n",
    "        pseudo_log_like = log_like * weights\n",
    "        return -np.sum(pseudo_log_like)\n",
    "\n",
    "    def fit(self, data, **kwargs):\n",
    "        param_keys, constraints = self.parse_params(data)\n",
    "\n",
    "        init_params = (\n",
    "            np.asarray([self.params.get(p, 0) for p in param_keys])\n",
    "            if self.params\n",
    "            else np.zeros(len(param_keys))\n",
    "        )\n",
    "\n",
    "        # Optimise!\n",
    "        estimate = scipy.optimize.minimize(\n",
    "            lambda xs: self.objective_fn(data, param_keys, xs),\n",
    "            x0=init_params,\n",
    "            constraints=constraints,\n",
    "            **kwargs\n",
    "        )\n",
    "\n",
    "        # Parse the estimates into parameter map\n",
    "        self.params = self._assign_params(param_keys, estimate.x)\n",
    "\n",
    "        return self\n",
    "\n",
    "    def predict_one(self, row, up_to=26):\n",
    "        scorelines = list(itertools.product(range(up_to), repeat=2))\n",
    "\n",
    "        home_goals = [h for h, a in scorelines]\n",
    "        away_goals = [a for h, a in scorelines]\n",
    "        home_rate = self.home_rate(self.params, row)\n",
    "        away_rate = self.away_rate(self.params, row)\n",
    "\n",
    "        probs = np.exp(self._log_like(home_goals, away_goals, home_rate, away_rate, self.params))\n",
    "\n",
    "        # TODO: add a mixin/adapter to customise the indexing in the results dicts?\n",
    "        # OR just use a custom dataclass for these...\n",
    "        return [dict(zip(['home_goals', 'away_goals', 'probability'], vals))\n",
    "                for vals in zip(home_goals, away_goals, probs)]\n",
    "\n",
    "    def predict(self, data, up_to=26):\n",
    "        scorelines = [self.predict_one(row, up_to=up_to) for row in data]\n",
    "        return scorelines"
   ]
  },
  {
   "cell_type": "markdown",
   "metadata": {},
   "source": [
    "## Model blocks"
   ]
  },
  {
   "cell_type": "code",
   "execution_count": null,
   "metadata": {},
   "outputs": [],
   "source": [
    "#exporti\n",
    "\n",
    "\n",
    "class ModelBlockABC(abc.ABC):\n",
    "    \"\"\"\n",
    "    Base class for model blocks\n",
    "    \"\"\"\n",
    "    PRIORITY = 0\n",
    "    \n",
    "    def param_keys(self, adapter, data):\n",
    "        return []\n",
    "\n",
    "    def constraints(self, adapter, data):\n",
    "        return []\n",
    "    \n",
    "    def home_terms(self, adapter, data):\n",
    "        return []\n",
    "    \n",
    "    def away_terms(self, adapter, data):\n",
    "        return []"
   ]
  },
  {
   "cell_type": "code",
   "execution_count": null,
   "metadata": {},
   "outputs": [],
   "source": [
    "#export\n",
    "\n",
    "\n",
    "class BaseRate(ModelBlockABC):\n",
    "    def __init__(self):\n",
    "        pass\n",
    "    \n",
    "    def param_keys(self, adapter, data):\n",
    "        return [AVG_KEY]\n",
    "    \n",
    "    def home_terms(self, adapter, row):\n",
    "        return [AVG_KEY]\n",
    "    \n",
    "    def away_terms(self, adapter, row):\n",
    "        return [AVG_KEY]"
   ]
  },
  {
   "cell_type": "code",
   "execution_count": null,
   "metadata": {},
   "outputs": [],
   "source": [
    "#export\n",
    "\n",
    "\n",
    "class HomeAdvantage(ModelBlockABC):\n",
    "    def __init__(self):\n",
    "        # TODO: allow HFA on/off depending on the data?\n",
    "        pass\n",
    "    \n",
    "    def param_keys(self, adapter, data):\n",
    "        return [HFA_KEY]\n",
    "    \n",
    "    def home_terms(self, adapter, row):\n",
    "        return [HFA_KEY]"
   ]
  },
  {
   "cell_type": "code",
   "execution_count": null,
   "metadata": {},
   "outputs": [],
   "source": [
    "#export\n",
    "\n",
    "\n",
    "class TeamStrength(ModelBlockABC):\n",
    "    # This is a gross hack so that we know that the \n",
    "    # team strength parameters come first, and thus can\n",
    "    # do the constraints (which are positionally indexed)\n",
    "    PRIORITY = 1\n",
    "    \n",
    "    def __init__(self):\n",
    "        pass\n",
    "    \n",
    "    def _teams(self, adapter, data):\n",
    "        return set(adapter.home_team(r) for r in data) | set(adapter.away_team(r) for r in data)\n",
    "    \n",
    "    def offence_key(self, label):\n",
    "        return DixonColesParameterKey(('Offence', label))\n",
    "    \n",
    "    def defence_key(self, label):\n",
    "        return DixonColesParameterKey(('Defence', label))\n",
    "    \n",
    "    def param_keys(self, adapter, data):\n",
    "        teams = self._teams(adapter, data)\n",
    "\n",
    "        offence = [self.offence_key(t) for t in teams]\n",
    "        defence = [self.defence_key(t) for t in teams]\n",
    "\n",
    "        return offence + defence\n",
    "    \n",
    "    def constraints(self, adapter, data):\n",
    "        n_teams = len(self._teams(adapter, data))\n",
    "        return [\n",
    "            # Force team offence parameters to average to 1\n",
    "            {'fun': lambda x: 1 - np.mean(np.exp(x[0:n_teams])),\n",
    "             'type': 'eq'},\n",
    "        ]\n",
    "    \n",
    "    def home_terms(self, adapter, row):\n",
    "        return [\n",
    "            self.offence_key(adapter.home_team(row)),\n",
    "            self.defence_key(adapter.away_team(row))\n",
    "        ]\n",
    "    \n",
    "    def away_terms(self, adapter, row):\n",
    "        return [\n",
    "            self.offence_key(adapter.away_team(row)),\n",
    "            self.defence_key(adapter.home_team(row))\n",
    "        ]"
   ]
  },
  {
   "cell_type": "code",
   "execution_count": null,
   "metadata": {},
   "outputs": [],
   "source": [
    "#export\n",
    "\n",
    "\n",
    "class KeyBlock(ModelBlockABC):\n",
    "    \"\"\"\n",
    "    Generic model block for adding arbitrary model terms to both home and away team\n",
    "    \"\"\"\n",
    "    def __init__(self, key):\n",
    "        self.key = key\n",
    "    \n",
    "    def param_keys(self, adapter, data):\n",
    "        return list(set(self.key(r) for r in data))\n",
    "    \n",
    "    def home_terms(self, adapter, row):\n",
    "        return [self.key(row)]\n",
    "    \n",
    "    def away_terms(self, adapter, row):\n",
    "        return [self.key(row)]"
   ]
  },
  {
   "cell_type": "markdown",
   "metadata": {},
   "source": [
    "Example model fit"
   ]
  },
  {
   "cell_type": "code",
   "execution_count": null,
   "metadata": {},
   "outputs": [
    {
     "data": {
      "text/plain": [
       "[{'date': datetime.datetime(2015, 8, 8, 0, 0),\n",
       "  'team1': 'Manchester United FC',\n",
       "  'team2': 'Tottenham Hotspur FC',\n",
       "  'score': {'ft': [1, 0]}},\n",
       " {'date': datetime.datetime(2015, 8, 8, 0, 0),\n",
       "  'team1': 'AFC Bournemouth',\n",
       "  'team2': 'Aston Villa FC',\n",
       "  'score': {'ft': [0, 1]}},\n",
       " {'date': datetime.datetime(2015, 8, 8, 0, 0),\n",
       "  'team1': 'Leicester City FC',\n",
       "  'team2': 'Sunderland AFC',\n",
       "  'score': {'ft': [4, 2]}}]"
      ]
     },
     "execution_count": null,
     "metadata": {},
     "output_type": "execute_result"
    }
   ],
   "source": [
    "with open('../data/premier-league-1516.json', 'r') as f:\n",
    "    pl_1516 = json.load(f)\n",
    "\n",
    "# Let's parse the dates, too\n",
    "for match in pl_1516:\n",
    "    match['date'] = dt.datetime.strptime(match['date'], '%Y-%m-%d')\n",
    "    \n",
    "pl_1516[0:3]"
   ]
  },
  {
   "cell_type": "code",
   "execution_count": null,
   "metadata": {},
   "outputs": [
    {
     "name": "stderr",
     "output_type": "stream",
     "text": [
      "/Users/ben/code/mezzala/venv/lib/python3.7/site-packages/ipykernel_launcher.py:54: RuntimeWarning: overflow encountered in multiply\n",
      "/Users/ben/code/mezzala/venv/lib/python3.7/site-packages/ipykernel_launcher.py:65: RuntimeWarning: invalid value encountered in log\n"
     ]
    }
   ],
   "source": [
    "model = DixonColes(\n",
    "    adapter=KeyAdapter(\n",
    "        home_team='team1',\n",
    "        away_team='team2',\n",
    "        home_goals=['score', 'ft', 0],\n",
    "        away_goals=['score', 'ft', 1],\n",
    "    ),\n",
    "    blocks=[TeamStrength(), BaseRate(), HomeAdvantage()]\n",
    ")\n",
    "model.fit(pl_1516)\n",
    "\n",
    "# All estimates should be valid numbers\n",
    "assert all(not np.isnan(x) for x in model.params.values())\n",
    "\n",
    "# Home advantage should be positive\n",
    "assert 1.0 < np.exp(model.params[HFA_KEY]) < 2.0"
   ]
  },
  {
   "cell_type": "code",
   "execution_count": null,
   "metadata": {},
   "outputs": [
    {
     "name": "stdout",
     "output_type": "stream",
     "text": [
      "('Offence', 'Chelsea FC')              : 1.15\n",
      "('Offence', 'Newcastle United FC')     : 0.87\n",
      "('Offence', 'Crystal Palace FC')       : 0.76\n",
      "('Offence', 'Liverpool FC')            : 1.23\n",
      "('Offence', 'Manchester City FC')      : 1.38\n",
      "('Offence', 'Everton FC')              : 1.16\n",
      "('Offence', 'West Ham United FC')      : 1.27\n",
      "('Offence', 'AFC Bournemouth')         : 0.89\n",
      "('Offence', 'Swansea City FC')         : 0.82\n",
      "('Offence', 'Aston Villa FC')          : 0.54\n",
      "('Offence', 'Southampton FC')          : 1.14\n",
      "('Offence', 'Stoke City FC')           : 0.81\n",
      "('Offence', 'Arsenal FC')              : 1.25\n",
      "('Offence', 'Manchester United FC')    : 0.94\n",
      "('Offence', 'Sunderland AFC')          : 0.94\n",
      "('Offence', 'Watford FC')              : 0.78\n",
      "('Offence', 'Leicester City FC')       : 1.31\n",
      "('Offence', 'Tottenham Hotspur FC')    : 1.33\n",
      "('Offence', 'Norwich City FC')         : 0.77\n",
      "('Offence', 'West Bromwich Albion FC') : 0.66\n",
      "('Defence', 'Chelsea FC')              : 1.08\n",
      "('Defence', 'Newcastle United FC')     : 1.30\n",
      "('Defence', 'Crystal Palace FC')       : 1.02\n",
      "('Defence', 'Liverpool FC')            : 1.02\n",
      "('Defence', 'Manchester City FC')      : 0.85\n",
      "('Defence', 'Everton FC')              : 1.12\n",
      "('Defence', 'West Ham United FC')      : 1.04\n",
      "('Defence', 'AFC Bournemouth')         : 1.34\n",
      "('Defence', 'Swansea City FC')         : 1.04\n",
      "('Defence', 'Aston Villa FC')          : 1.49\n",
      "('Defence', 'Southampton FC')          : 0.83\n",
      "('Defence', 'Stoke City FC')           : 1.09\n",
      "('Defence', 'Arsenal FC')              : 0.74\n",
      "('Defence', 'Manchester United FC')    : 0.70\n",
      "('Defence', 'Sunderland AFC')          : 1.25\n",
      "('Defence', 'Watford FC')              : 1.00\n",
      "('Defence', 'Leicester City FC')       : 0.73\n",
      "('Defence', 'Tottenham Hotspur FC')    : 0.72\n",
      "('Defence', 'Norwich City FC')         : 1.33\n",
      "('Defence', 'West Bromwich Albion FC') : 0.94\n",
      "Average rate                           : 1.17\n",
      "Home-field advantage                   : 1.23\n",
      "Rho                                    : 0.94\n"
     ]
    }
   ],
   "source": [
    "param_keys = model.params.keys()\n",
    "param_key_len = max(len(str(k.label)) for k in param_keys)\n",
    "\n",
    "for k in param_keys:\n",
    "    key_str = str(k.label).ljust(param_key_len + 1)\n",
    "    print(f'{key_str}: {np.exp(model.params[k]):0.2f}')"
   ]
  },
  {
   "cell_type": "markdown",
   "metadata": {},
   "source": [
    "Making predictions for a single match"
   ]
  },
  {
   "cell_type": "code",
   "execution_count": null,
   "metadata": {},
   "outputs": [
    {
     "data": {
      "text/plain": [
       "(0.6645794578795163, 0.19833741652954348, 0.13708312559093988)"
      ]
     },
     "execution_count": null,
     "metadata": {},
     "output_type": "execute_result"
    }
   ],
   "source": [
    "scorelines = model.predict_one({\n",
    "    'team1': 'Manchester City FC',\n",
    "    'team2': 'Swansea City FC',\n",
    "})\n",
    "\n",
    "home_win = sum(s['probability'] for s in scorelines if s['home_goals'] > s['away_goals'])\n",
    "draw = sum(s['probability'] for s in scorelines if s['home_goals'] == s['away_goals'])\n",
    "away_win = sum(s['probability'] for s in scorelines if s['home_goals'] < s['away_goals'])\n",
    "\n",
    "home_win, draw, away_win"
   ]
  },
  {
   "cell_type": "markdown",
   "metadata": {},
   "source": [
    "Or for multiple matches"
   ]
  },
  {
   "cell_type": "code",
   "execution_count": null,
   "metadata": {},
   "outputs": [],
   "source": [
    "many_scorelines = model.predict([\n",
    "    {'team1': 'Manchester City FC',\n",
    "     'team2': 'Swansea City FC'},\n",
    "    {'team1': 'Manchester City FC',\n",
    "     'team2': 'West Ham United FC'}\n",
    "])"
   ]
  },
  {
   "cell_type": "markdown",
   "metadata": {},
   "source": [
    "What about a model with a different weighting method?"
   ]
  },
  {
   "cell_type": "code",
   "execution_count": null,
   "metadata": {},
   "outputs": [
    {
     "name": "stderr",
     "output_type": "stream",
     "text": [
      "/Users/ben/code/mezzala/venv/lib/python3.7/site-packages/ipykernel_launcher.py:38: RuntimeWarning: overflow encountered in exp\n",
      "/Users/ben/code/mezzala/venv/lib/python3.7/site-packages/ipykernel_launcher.py:43: RuntimeWarning: overflow encountered in exp\n",
      "/Users/ben/code/mezzala/venv/lib/python3.7/site-packages/scipy/stats/_discrete_distns.py:763: RuntimeWarning: invalid value encountered in subtract\n",
      "  Pk = special.xlogy(k, mu) - gamln(k + 1) - mu\n",
      "/Users/ben/code/mezzala/venv/lib/python3.7/site-packages/ipykernel_launcher.py:56: RuntimeWarning: overflow encountered in multiply\n",
      "/Users/ben/code/mezzala/venv/lib/python3.7/site-packages/ipykernel_launcher.py:65: RuntimeWarning: invalid value encountered in log\n",
      "/Users/ben/code/mezzala/venv/lib/python3.7/site-packages/ipykernel_launcher.py:65: RuntimeWarning: invalid value encountered in add\n"
     ]
    },
    {
     "data": {
      "text/plain": [
       "<__main__.DixonColes at 0x127f2b550>"
      ]
     },
     "execution_count": null,
     "metadata": {},
     "output_type": "execute_result"
    }
   ],
   "source": [
    "season_end_date = max(match['date'] for match in pl_1516)\n",
    "\n",
    "model_exp = DixonColes(\n",
    "    adapter=KeyAdapter(\n",
    "        home_team='team1',\n",
    "        away_team='team2',\n",
    "        home_goals=['score', 'ft', 0],\n",
    "        away_goals=['score', 'ft', 1],\n",
    "    ),\n",
    "    blocks=[TeamStrength(), BaseRate(), HomeAdvantage()],\n",
    "    weight=ExponentialWeight(\n",
    "        epsilon=0.0065,  # Value taken from the original paper\n",
    "        key=lambda x: (season_end_date - x['date']).days\n",
    "    )\n",
    ")\n",
    "model_exp.fit(pl_1516)"
   ]
  },
  {
   "cell_type": "markdown",
   "metadata": {},
   "source": [
    "How much does that change the ratings at season-end?"
   ]
  },
  {
   "cell_type": "code",
   "execution_count": null,
   "metadata": {},
   "outputs": [
    {
     "name": "stdout",
     "output_type": "stream",
     "text": [
      "('Offence', 'Chelsea FC')              : 1.15 -> 1.12 (0.97)\n",
      "('Offence', 'Newcastle United FC')     : 0.87 -> 0.82 (0.94)\n",
      "('Offence', 'Crystal Palace FC')       : 0.76 -> 0.85 (1.12)\n",
      "('Offence', 'Liverpool FC')            : 1.23 -> 1.06 (0.86)\n",
      "('Offence', 'Manchester City FC')      : 1.38 -> 1.46 (1.06)\n",
      "('Offence', 'Everton FC')              : 1.16 -> 1.28 (1.10)\n",
      "('Offence', 'West Ham United FC')      : 1.27 -> 1.27 (1.00)\n",
      "('Offence', 'AFC Bournemouth')         : 0.89 -> 0.88 (0.98)\n",
      "('Offence', 'Swansea City FC')         : 0.82 -> 0.79 (0.97)\n",
      "('Offence', 'Aston Villa FC')          : 0.54 -> 0.59 (1.10)\n",
      "('Offence', 'Southampton FC')          : 1.14 -> 1.06 (0.93)\n",
      "('Offence', 'Stoke City FC')           : 0.81 -> 0.76 (0.94)\n",
      "('Offence', 'Arsenal FC')              : 1.25 -> 1.24 (0.98)\n",
      "('Offence', 'Manchester United FC')    : 0.94 -> 0.96 (1.02)\n",
      "('Offence', 'Sunderland AFC')          : 0.94 -> 0.89 (0.95)\n",
      "('Offence', 'Watford FC')              : 0.78 -> 0.77 (0.99)\n",
      "('Offence', 'Leicester City FC')       : 1.31 -> 1.40 (1.07)\n",
      "('Offence', 'Tottenham Hotspur FC')    : 1.33 -> 1.27 (0.96)\n",
      "('Offence', 'Norwich City FC')         : 0.77 -> 0.86 (1.12)\n",
      "('Offence', 'West Bromwich Albion FC') : 0.66 -> 0.68 (1.02)\n",
      "('Defence', 'Chelsea FC')              : 1.08 -> 1.21 (1.12)\n",
      "('Defence', 'Newcastle United FC')     : 1.30 -> 1.38 (1.06)\n",
      "('Defence', 'Crystal Palace FC')       : 1.02 -> 0.93 (0.92)\n",
      "('Defence', 'Liverpool FC')            : 1.02 -> 0.97 (0.96)\n",
      "('Defence', 'Manchester City FC')      : 0.85 -> 0.79 (0.93)\n",
      "('Defence', 'Everton FC')              : 1.12 -> 1.08 (0.96)\n",
      "('Defence', 'West Ham United FC')      : 1.04 -> 1.00 (0.95)\n",
      "('Defence', 'AFC Bournemouth')         : 1.34 -> 1.35 (1.01)\n",
      "('Defence', 'Swansea City FC')         : 1.04 -> 1.04 (1.00)\n",
      "('Defence', 'Aston Villa FC')          : 1.49 -> 1.41 (0.95)\n",
      "('Defence', 'Southampton FC')          : 0.83 -> 0.89 (1.07)\n",
      "('Defence', 'Stoke City FC')           : 1.09 -> 0.98 (0.90)\n",
      "('Defence', 'Arsenal FC')              : 0.74 -> 0.73 (0.99)\n",
      "('Defence', 'Manchester United FC')    : 0.70 -> 0.67 (0.96)\n",
      "('Defence', 'Sunderland AFC')          : 1.25 -> 1.45 (1.17)\n",
      "('Defence', 'Watford FC')              : 1.00 -> 0.88 (0.89)\n",
      "('Defence', 'Leicester City FC')       : 0.73 -> 0.94 (1.28)\n",
      "('Defence', 'Tottenham Hotspur FC')    : 0.72 -> 0.67 (0.92)\n",
      "('Defence', 'Norwich City FC')         : 1.33 -> 1.40 (1.05)\n",
      "('Defence', 'West Bromwich Albion FC') : 0.94 -> 0.99 (1.04)\n",
      "Average rate                           : 1.17 -> 1.19 (1.02)\n",
      "Home-field advantage                   : 1.23 -> 1.16 (0.94)\n",
      "Rho                                    : 0.94 -> 0.95 (1.01)\n"
     ]
    }
   ],
   "source": [
    "for k in param_keys:\n",
    "    key_str = str(k.label).ljust(param_key_len + 1)\n",
    "    model_param = np.exp(model.params[k])\n",
    "    model_exp_param = np.exp(model_exp.params[k])\n",
    "    print(f'{key_str}: {model_param:0.2f} -> {model_exp_param:0.2f} ({model_exp_param/model_param:0.2f})')"
   ]
  },
  {
   "cell_type": "markdown",
   "metadata": {},
   "source": [
    "And we should demo model blocks a bit more?"
   ]
  },
  {
   "cell_type": "code",
   "execution_count": null,
   "metadata": {},
   "outputs": [],
   "source": []
  }
 ],
 "metadata": {
  "kernelspec": {
   "display_name": "Python 3",
   "language": "python",
   "name": "python3"
  }
 },
 "nbformat": 4,
 "nbformat_minor": 2
}
