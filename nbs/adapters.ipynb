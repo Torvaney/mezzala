{
 "cells": [
  {
   "cell_type": "code",
   "execution_count": null,
   "id": "220e6de0",
   "metadata": {},
   "outputs": [],
   "source": [
    "# default_exp adapters"
   ]
  },
  {
   "cell_type": "markdown",
   "id": "6c394436",
   "metadata": {},
   "source": [
    "# Data Adapters"
   ]
  },
  {
   "cell_type": "code",
   "execution_count": null,
   "id": "a81115fc",
   "metadata": {},
   "outputs": [],
   "source": [
    "#hide\n",
    "from nbdev.showdoc import *"
   ]
  },
  {
   "cell_type": "code",
   "execution_count": null,
   "id": "d8ad4fbc",
   "metadata": {},
   "outputs": [],
   "source": [
    "import dataclasses\n",
    "import typing"
   ]
  },
  {
   "cell_type": "code",
   "execution_count": null,
   "id": "9b18f71f",
   "metadata": {},
   "outputs": [],
   "source": [
    "#export\n",
    "import collections\n",
    "import functools\n",
    "\n",
    "import mezzala.parameters"
   ]
  },
  {
   "cell_type": "markdown",
   "id": "86cfc9f2",
   "metadata": {},
   "source": [
    "## Basic adapters"
   ]
  },
  {
   "cell_type": "code",
   "execution_count": null,
   "id": "211bdaa4",
   "metadata": {},
   "outputs": [],
   "source": [
    "#export\n",
    "\n",
    "\n",
    "class KeyAdapter:\n",
    "    \"\"\"\n",
    "    Get data from subscriptable objects.\n",
    "    \"\"\"\n",
    "    \n",
    "    def __init__(self, home_goals, away_goals, **kwargs):\n",
    "        self._lookup = {\n",
    "            'home_goals': home_goals,\n",
    "            'away_goals': away_goals,\n",
    "            **kwargs\n",
    "        }\n",
    "        \n",
    "    def __repr__(self):\n",
    "        args_repr = ', '.join(f'{k}={repr(v)}' for k, v in self._lookup.items())\n",
    "        return f'KeyAdapter({args_repr})'\n",
    "\n",
    "    def _get_in(self, row, item):\n",
    "        if isinstance(item, list):\n",
    "            return functools.reduce(lambda d, i: d[i], item, row)\n",
    "        return row[item]\n",
    "    \n",
    "    def __getattr__(self, key): \n",
    "        def getter(row):\n",
    "            return self._get_in(row, self._lookup[key])\n",
    "        return getter"
   ]
  },
  {
   "cell_type": "markdown",
   "id": "e7427e3d",
   "metadata": {},
   "source": [
    "Anything subscriptable can be with this type of adapter. For example,\n",
    "you might have input data as a list of tuples (e.g. using Python's\n",
    "in-built `csv` library)"
   ]
  },
  {
   "cell_type": "code",
   "execution_count": null,
   "id": "37639fc2",
   "metadata": {},
   "outputs": [],
   "source": [
    "index_adapter = KeyAdapter(0, 1)\n",
    "\n",
    "assert index_adapter.home_goals([1, 2]) == 1\n",
    "assert index_adapter.away_goals([1, 2]) == 2"
   ]
  },
  {
   "cell_type": "markdown",
   "id": "dcee4f73",
   "metadata": {},
   "source": [
    "Or, you might be using a list of dicts."
   ]
  },
  {
   "cell_type": "code",
   "execution_count": null,
   "id": "eb152699",
   "metadata": {},
   "outputs": [],
   "source": [
    "dict_adapter = KeyAdapter('hg', 'ag', home_team='home', away_team='away')\n",
    "\n",
    "example_dict = {\n",
    "    'home': 'Team 1',\n",
    "    'away': 'Team 2',\n",
    "    'hg': 4,\n",
    "    'ag': 3,\n",
    "}\n",
    "\n",
    "assert dict_adapter.home_goals(example_dict) == 4\n",
    "assert dict_adapter.away_goals(example_dict) == 3\n",
    "assert dict_adapter.home_team(example_dict) == 'Team 1'\n",
    "assert dict_adapter.away_team(example_dict) == 'Team 2'"
   ]
  },
  {
   "cell_type": "markdown",
   "id": "c2c6b4dc",
   "metadata": {},
   "source": [
    "Nested data can be supplied using a list"
   ]
  },
  {
   "cell_type": "code",
   "execution_count": null,
   "id": "fd4dd144",
   "metadata": {},
   "outputs": [],
   "source": [
    "nested_dict_adapter = KeyAdapter(\n",
    "    home_goals=['scoreline', 0], \n",
    "    away_goals=['scoreline', 1]\n",
    ")\n",
    "\n",
    "example_nested_dict = {\n",
    "    'scoreline': [1, 1]\n",
    "}\n",
    "\n",
    "assert nested_dict_adapter.home_goals(example_nested_dict) == 1\n",
    "assert nested_dict_adapter.away_goals(example_nested_dict) == 1"
   ]
  },
  {
   "cell_type": "markdown",
   "id": "5b8acbec",
   "metadata": {},
   "source": [
    "`KeyAdapter` could be used alongside `pd.DataFrame.iterrows` as well; however, it is much faster when using `pd.DataFrame.itertuples`.\n",
    "\n",
    "Likewise, you can't use a `KeyAdapter` with custom objects (e.g. dataclasses).\n",
    "\n",
    "In this case, you need an `AttributeAdapter`."
   ]
  },
  {
   "cell_type": "code",
   "execution_count": null,
   "id": "4d42dc0a",
   "metadata": {},
   "outputs": [],
   "source": [
    "#export\n",
    "\n",
    "\n",
    "class AttributeAdapter:\n",
    "    \"\"\"\n",
    "    Get data from object attributes.\n",
    "    \"\"\"\n",
    "    def __init__(self, home_goals, away_goals, **kwargs):\n",
    "        self._lookup = {\n",
    "            'home_goals': home_goals,\n",
    "            'away_goals': away_goals,\n",
    "            **kwargs\n",
    "        }\n",
    "        \n",
    "    def __repr__(self):\n",
    "        args_repr = ', '.join(f'{k}={repr(v)}' for k, v in self._lookup.items())\n",
    "        return f'KeyAdapter({args_repr})'\n",
    "        \n",
    "    def _get_in(self, row, item):\n",
    "        if isinstance(item, list):\n",
    "            return functools.reduce(getattr, item, row)\n",
    "        return getattr(row, item)\n",
    "    \n",
    "    def __getattr__(self, key): \n",
    "        def getter(row):\n",
    "            return self._get_in(row, self._lookup[key])\n",
    "        return getter"
   ]
  },
  {
   "cell_type": "code",
   "execution_count": null,
   "id": "1d3fb1dc",
   "metadata": {},
   "outputs": [],
   "source": [
    "@dataclasses.dataclass()\n",
    "class ExampleData:\n",
    "    hg: int\n",
    "    ag: int\n",
    "    home: str\n",
    "    away: str\n",
    "\n",
    "\n",
    "attr_adapter = AttributeAdapter('hg', 'ag', home_team='home', away_team='away')\n",
    "\n",
    "\n",
    "example_attr = ExampleData(\n",
    "    home='Another home team',\n",
    "    away='Another away team',\n",
    "    hg=5,\n",
    "    ag=1,\n",
    ")\n",
    "\n",
    "assert attr_adapter.home_goals(example_attr) == 5\n",
    "assert attr_adapter.away_goals(example_attr) == 1\n",
    "assert attr_adapter.home_team(example_attr) == 'Another home team'\n",
    "assert attr_adapter.away_team(example_attr) == 'Another away team'"
   ]
  },
  {
   "cell_type": "markdown",
   "id": "0de5484e",
   "metadata": {},
   "source": [
    "As with `KeyAdapter`, nested attributes can also be fetched using lists"
   ]
  },
  {
   "cell_type": "code",
   "execution_count": null,
   "id": "ae96b0e2",
   "metadata": {},
   "outputs": [],
   "source": [
    "@dataclasses.dataclass()\n",
    "class Scoreline:\n",
    "    home: int\n",
    "    away: int\n",
    "\n",
    "\n",
    "@dataclasses.dataclass()\n",
    "class ExampleNestedData:\n",
    "    scoreline: Scoreline\n",
    "    home: str\n",
    "    away: str\n",
    "\n",
    "\n",
    "nested_attr_adapter = AttributeAdapter(\n",
    "    home_team='home',\n",
    "    home_goals=['scoreline', 'home'], \n",
    "    away_team='away',\n",
    "    away_goals=['scoreline', 'away'],\n",
    ")\n",
    "\n",
    "example_nested_attr = ExampleNestedData(\n",
    "    home='Another home team',\n",
    "    away='Another away team',\n",
    "    scoreline=Scoreline(2, 5),\n",
    ")\n",
    "\n",
    "assert nested_attr_adapter.home_goals(example_nested_attr) == 2\n",
    "assert nested_attr_adapter.away_goals(example_nested_attr) == 5"
   ]
  },
  {
   "cell_type": "code",
   "execution_count": null,
   "id": "12832094",
   "metadata": {},
   "outputs": [],
   "source": [
    "#export\n",
    "\n",
    "\n",
    "class LambdaAdapter:\n",
    "    \"\"\"\n",
    "    Get data from objects with an arbitrary function.\n",
    "    \"\"\"\n",
    "    def __init__(self, home_goals, away_goals, **kwargs):\n",
    "        self._lookup = {\n",
    "            'home_goals': home_goals,\n",
    "            'away_goals': away_goals,\n",
    "            **kwargs\n",
    "        }\n",
    "        \n",
    "    def __repr__(self):\n",
    "        args_repr = ', '.join(f'{k}={repr(v)}' for k, v in self._lookup.items())\n",
    "        return f'LambdaAdapter({args_repr})'\n",
    "    \n",
    "    def __getattr__(self, key): \n",
    "        def getter(row):\n",
    "            return self._lookup[key](row)\n",
    "        return getter"
   ]
  },
  {
   "cell_type": "code",
   "execution_count": null,
   "id": "d1727c62",
   "metadata": {},
   "outputs": [],
   "source": [
    "example_lambda_adapter = LambdaAdapter(\n",
    "    home_team=lambda x: x.home,\n",
    "    home_goals=lambda x: x.scoreline.home, \n",
    "    away_team=lambda x: 'jbvklajvbs',\n",
    "    away_goals=lambda x: x.scoreline.away + 1,\n",
    ")\n",
    "\n",
    "assert example_lambda_adapter.home_team(example_nested_attr) == 'Another home team'\n",
    "assert example_lambda_adapter.away_team(example_nested_attr) == 'jbvklajvbs'\n",
    "assert example_lambda_adapter.home_goals(example_nested_attr) == 2\n",
    "assert example_lambda_adapter.away_goals(example_nested_attr) == 6"
   ]
  },
  {
   "cell_type": "markdown",
   "id": "456f7c47",
   "metadata": {},
   "source": [
    "## Composite adapters"
   ]
  },
  {
   "cell_type": "code",
   "execution_count": null,
   "id": "a01bc537",
   "metadata": {},
   "outputs": [],
   "source": [
    "#export\n",
    "\n",
    "\n",
    "class LumpedAdapter:\n",
    "    \"\"\" \n",
    "    Lump terms which have appeared below a minimum number of times in\n",
    "    the training data into a placeholder term\n",
    "    \"\"\"\n",
    "\n",
    "    def __init__(self, base_adapter, **kwargs):\n",
    "        self.base_adapter = base_adapter\n",
    "        \n",
    "        # Match terms to placeholders\n",
    "        # If multiple terms have the same placeholder (e.g. Home and Away\n",
    "        # teams) they will share a counter\n",
    "        self._term_lookup = kwargs\n",
    "        \n",
    "        self._counters = None\n",
    "        \n",
    "    def __repr__(self):\n",
    "        args_repr = ', '.join(f'{k}={repr(v)}' for k, v in self._term_lookup.items())\n",
    "        return f'LumpedAdapter(base_adapter={repr(self.base_adapter)}, {args_repr})'\n",
    "        \n",
    "    def fit(self, data):\n",
    "        self._counters = {}\n",
    "        for term, (placeholder, _) in self._term_lookup.items():\n",
    "            # Initialise with an empty counter if it doesn't already exist\n",
    "            # We need to do this so that multiple terms sharing the same counter\n",
    "            # (home and away teams) are shared\n",
    "            init_counter = self._counters.get(placeholder, collections.Counter())\n",
    "            \n",
    "            counter = collections.Counter(getattr(self.base_adapter, term)(row) for row in data)\n",
    "            \n",
    "            self._counters[placeholder] = init_counter + counter\n",
    "        return self\n",
    "    \n",
    "    def __getattr__(self, key):\n",
    "        if not self._counters:\n",
    "            raise ValueError(\n",
    "                'No counts found! You need to call `LumpedAdapter.fit` '\n",
    "                'on the training data before you can use it!'\n",
    "            )\n",
    "        \n",
    "        def getter(row):\n",
    "            value = getattr(self.base_adapter, key)(row)\n",
    "            placeholder, min_obs = self._term_lookup.get(key, (None, None))\n",
    "            if placeholder and self._counters[placeholder][value] < min_obs:\n",
    "                return placeholder\n",
    "            return value\n",
    "        return getter"
   ]
  },
  {
   "cell_type": "code",
   "execution_count": null,
   "id": "8255aa1a",
   "metadata": {},
   "outputs": [
    {
     "data": {
      "text/plain": [
       "LumpedAdapter(base_adapter=KeyAdapter(home_goals='hg', away_goals='ag', home_team='home', away_team='away'), home_team=('Other team', 5), away_team=('Other team', 5))"
      ]
     },
     "execution_count": null,
     "metadata": {},
     "output_type": "execute_result"
    }
   ],
   "source": [
    "example_lumped_data = [\n",
    "    *([example_dict]*4),  # i.e., 'Team 1' and 'Team 2' appear in the data 4 times\n",
    "    {'away': 'Team 1',    # 'Team 1' now appears an additional time, (5 total)\n",
    "                          # Although this time appears as an *away* team\n",
    "     'home': 'Team 3',    # While 'Team 3' appears once\n",
    "     'hg': 4, \n",
    "     'ag': 3},\n",
    "]\n",
    "\n",
    "\n",
    "lumped_dict_adapter = LumpedAdapter(\n",
    "    base_adapter=dict_adapter,\n",
    "    home_team=('Other team', 5),      # Because `home_team` and `away_team` share the same\n",
    "                                      # placeholder value ('Other team'), they are counted\n",
    "                                      # together. I.e. a team has to appear at least 5 times\n",
    "                                      # as _either_ the home team, or the away team\n",
    "    away_team=('Other team', 5)\n",
    ")\n",
    "lumped_dict_adapter.fit(example_lumped_data)\n",
    "\n",
    "lumped_dict_adapter"
   ]
  },
  {
   "cell_type": "code",
   "execution_count": null,
   "id": "a16e9648",
   "metadata": {},
   "outputs": [],
   "source": [
    "example_lumped_1 = {\n",
    "    'home': 'Team 1',\n",
    "    'away': 'Team 3',\n",
    "    'hg': 1, \n",
    "    'ag': 2\n",
    "}\n",
    "\n",
    "# A team with more than the minimum number of observations appears as before\n",
    "assert lumped_dict_adapter.home_team(example_lumped_1) == 'Team 1'\n",
    "\n",
    "# But a team with fewer observations appears as the placeholder\n",
    "assert lumped_dict_adapter.away_team(example_lumped_1) == 'Other team'\n",
    "\n",
    "# Meanwhile, values without a placeholder in the LumpedAdapter\n",
    "# also appear as before\n",
    "assert lumped_dict_adapter.home_goals(example_lumped_1) == 1\n",
    "assert lumped_dict_adapter.away_goals(example_lumped_1) == 2"
   ]
  },
  {
   "cell_type": "markdown",
   "id": "b8440a77",
   "metadata": {},
   "source": [
    "Using a lumped adapter can also allow you to handle items which didn't appear in the training set at all:"
   ]
  },
  {
   "cell_type": "code",
   "execution_count": null,
   "id": "5829767f",
   "metadata": {},
   "outputs": [],
   "source": [
    "example_lumped_2 = {\n",
    "    'home': 'Team 2',  # Only appeared 4 times, below threshold of 5\n",
    "    'away': 'Team 4',  # Appeared 0 times in the data\n",
    "    'hg': 1, \n",
    "    'ag': 2\n",
    "}\n",
    "\n",
    "assert lumped_dict_adapter.home_team(example_lumped_2) == 'Other team'\n",
    "assert lumped_dict_adapter.away_team(example_lumped_2) == 'Other team'"
   ]
  }
 ],
 "metadata": {
  "kernelspec": {
   "display_name": "Python 3",
   "language": "python",
   "name": "python3"
  }
 },
 "nbformat": 4,
 "nbformat_minor": 5
}
