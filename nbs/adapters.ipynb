{
 "cells": [
  {
   "cell_type": "code",
   "execution_count": null,
   "id": "220e6de0",
   "metadata": {},
   "outputs": [],
   "source": [
    "# default_exp adapters"
   ]
  },
  {
   "cell_type": "markdown",
   "id": "6c394436",
   "metadata": {},
   "source": [
    "# Data Adapters"
   ]
  },
  {
   "cell_type": "code",
   "execution_count": null,
   "id": "a81115fc",
   "metadata": {},
   "outputs": [],
   "source": [
    "#hide\n",
    "from nbdev.showdoc import *"
   ]
  },
  {
   "cell_type": "code",
   "execution_count": null,
   "id": "d8ad4fbc",
   "metadata": {},
   "outputs": [],
   "source": [
    "import dataclasses\n",
    "import typing"
   ]
  },
  {
   "cell_type": "code",
   "execution_count": null,
   "id": "9b18f71f",
   "metadata": {},
   "outputs": [],
   "source": [
    "#export\n",
    "import collections\n",
    "import functools\n",
    "\n",
    "import mezzala.parameters"
   ]
  },
  {
   "cell_type": "markdown",
   "id": "86cfc9f2",
   "metadata": {},
   "source": [
    "## Basic adapters"
   ]
  },
  {
   "cell_type": "code",
   "execution_count": null,
   "id": "211bdaa4",
   "metadata": {},
   "outputs": [],
   "source": [
    "#export\n",
    "\n",
    "\n",
    "class KeyAdapter:\n",
    "    \"\"\"\n",
    "    Get data from subscriptable objects.\n",
    "    \"\"\"\n",
    "    \n",
    "    def __init__(self, home_goals, away_goals, **kwargs):\n",
    "        self._lookup = {\n",
    "            'home_goals': home_goals,\n",
    "            'away_goals': away_goals,\n",
    "            **kwargs\n",
    "        }\n",
    "\n",
    "    def _get_in(self, row, item):\n",
    "        if isinstance(item, list):\n",
    "            return functools.reduce(lambda d, i: d[i], item, row)\n",
    "        return row[item]\n",
    "    \n",
    "    def __getattr__(self, key): \n",
    "        def getter(row):\n",
    "            return self._get_in(row, self._lookup[key])\n",
    "        return getter"
   ]
  },
  {
   "cell_type": "markdown",
   "id": "e7427e3d",
   "metadata": {},
   "source": [
    "Anything subscriptable can be with this type of adapter. For example,\n",
    "you might have input data as a list of tuples (e.g. using Python's\n",
    "in-built `csv` library)"
   ]
  },
  {
   "cell_type": "code",
   "execution_count": null,
   "id": "37639fc2",
   "metadata": {},
   "outputs": [],
   "source": [
    "index_adapter = KeyAdapter(0, 1)\n",
    "\n",
    "assert index_adapter.home_goals([1, 2]) == 1\n",
    "assert index_adapter.away_goals([1, 2]) == 2"
   ]
  },
  {
   "cell_type": "markdown",
   "id": "dcee4f73",
   "metadata": {},
   "source": [
    "Or, you might be using a list of dicts."
   ]
  },
  {
   "cell_type": "code",
   "execution_count": null,
   "id": "eb152699",
   "metadata": {},
   "outputs": [],
   "source": [
    "dict_adapter = KeyAdapter('hg', 'ag', home_team='home', away_team='away')\n",
    "\n",
    "example_dict = {\n",
    "    'home': 'Team 1',\n",
    "    'away': 'Team 2',\n",
    "    'hg': 4,\n",
    "    'ag': 3,\n",
    "}\n",
    "\n",
    "assert dict_adapter.home_goals(example_dict) == 4\n",
    "assert dict_adapter.away_goals(example_dict) == 3\n",
    "assert dict_adapter.home_team(example_dict) == 'Team 1'\n",
    "assert dict_adapter.away_team(example_dict) == 'Team 2'"
   ]
  },
  {
   "cell_type": "markdown",
   "id": "c2c6b4dc",
   "metadata": {},
   "source": [
    "Nested data can be supplied using a list"
   ]
  },
  {
   "cell_type": "code",
   "execution_count": null,
   "id": "fd4dd144",
   "metadata": {},
   "outputs": [],
   "source": [
    "nested_dict_adapter = KeyAdapter(\n",
    "    home_goals=['scoreline', 0], \n",
    "    away_goals=['scoreline', 1]\n",
    ")\n",
    "\n",
    "example_nested_dict = {\n",
    "    'scoreline': [1, 1]\n",
    "}\n",
    "\n",
    "assert nested_dict_adapter.home_goals(example_nested_dict) == 1\n",
    "assert nested_dict_adapter.away_goals(example_nested_dict) == 1"
   ]
  },
  {
   "cell_type": "markdown",
   "id": "5b8acbec",
   "metadata": {},
   "source": [
    "`KeyAdapter` could be used alongside `pd.DataFrame.iterrows` as well; however, it is much faster when using `pd.DataFrame.itertuples`.\n",
    "\n",
    "Likewise, you can't use a `KeyAdapter` with custom objects (e.g. dataclasses).\n",
    "\n",
    "In this case, you need an `AttributeAdapter`."
   ]
  },
  {
   "cell_type": "code",
   "execution_count": null,
   "id": "4d42dc0a",
   "metadata": {},
   "outputs": [],
   "source": [
    "#export\n",
    "\n",
    "\n",
    "class AttributeAdapter:\n",
    "    \"\"\"\n",
    "    Get data from object attributes.\n",
    "    \"\"\"\n",
    "    def __init__(self, home_goals, away_goals, **kwargs):\n",
    "        self._lookup = {\n",
    "            'home_goals': home_goals,\n",
    "            'away_goals': away_goals,\n",
    "            **kwargs\n",
    "        }\n",
    "        \n",
    "    def _get_in(self, row, item):\n",
    "        if isinstance(item, list):\n",
    "            return functools.reduce(getattr, item, row)\n",
    "        return getattr(row, item)\n",
    "    \n",
    "    def __getattr__(self, key): \n",
    "        def getter(row):\n",
    "            return self._get_in(row, self._lookup[key])\n",
    "        return getter"
   ]
  },
  {
   "cell_type": "code",
   "execution_count": null,
   "id": "1d3fb1dc",
   "metadata": {},
   "outputs": [],
   "source": [
    "@dataclasses.dataclass()\n",
    "class ExampleData:\n",
    "    hg: int\n",
    "    ag: int\n",
    "    home: str\n",
    "    away: str\n",
    "\n",
    "\n",
    "attr_adapter = AttributeAdapter('hg', 'ag', home_team='home', away_team='away')\n",
    "\n",
    "\n",
    "example_attr = ExampleData(\n",
    "    home='Another home team',\n",
    "    away='Another away team',\n",
    "    hg=5,\n",
    "    ag=1,\n",
    ")\n",
    "\n",
    "assert attr_adapter.home_goals(example_attr) == 5\n",
    "assert attr_adapter.away_goals(example_attr) == 1\n",
    "assert attr_adapter.home_team(example_attr) == 'Another home team'\n",
    "assert attr_adapter.away_team(example_attr) == 'Another away team'"
   ]
  },
  {
   "cell_type": "markdown",
   "id": "0de5484e",
   "metadata": {},
   "source": [
    "As with `KeyAdapter`, nested attributes can also be fetched using lists"
   ]
  },
  {
   "cell_type": "code",
   "execution_count": null,
   "id": "ae96b0e2",
   "metadata": {},
   "outputs": [],
   "source": [
    "@dataclasses.dataclass()\n",
    "class Scoreline:\n",
    "    home: int\n",
    "    away: int\n",
    "\n",
    "\n",
    "@dataclasses.dataclass()\n",
    "class ExampleNestedData:\n",
    "    scoreline: Scoreline\n",
    "    home: str\n",
    "    away: str\n",
    "\n",
    "\n",
    "nested_attr_adapter = AttributeAdapter(\n",
    "    home_team='home',\n",
    "    home_goals=['scoreline', 'home'], \n",
    "    away_team='away',\n",
    "    away_goals=['scoreline', 'away'],\n",
    ")\n",
    "\n",
    "example_nested_attr = ExampleNestedData(\n",
    "    home='Another home team',\n",
    "    away='Another away team',\n",
    "    scoreline=Scoreline(2, 5),\n",
    ")\n",
    "\n",
    "assert nested_attr_adapter.home_goals(example_nested_attr) == 2\n",
    "assert nested_attr_adapter.away_goals(example_nested_attr) == 5"
   ]
  },
  {
   "cell_type": "markdown",
   "id": "456f7c47",
   "metadata": {},
   "source": [
    "## Composite adapters"
   ]
  },
  {
   "cell_type": "code",
   "execution_count": null,
   "id": "a01bc537",
   "metadata": {},
   "outputs": [],
   "source": [
    "#export\n",
    "\n",
    "\n",
    "class LumpedAdapter:\n",
    "    \"\"\" Lump term values who appear below `min_observations` times (defaults to 10) into one term (`placeholder`)\"\"\"\n",
    "\n",
    "    def __init__(self, base_adapter, data, placeholder, min_observations=10):\n",
    "        self.base_adapter = base_adapter\n",
    "        self.min_matches = min_matches\n",
    "        self.placeholder = placeholder\n",
    "\n",
    "        self.match_count = None\n",
    "        self.train(data)\n",
    "        \n",
    "    def home_team(self, row):\n",
    "        home_team = self.base_adapter.home_team(row)\n",
    "        if self.match_count[home_team] <= self.min_matches:\n",
    "            return self.placeholder\n",
    "        return home_team\n",
    "\n",
    "    def away_team(self, row):\n",
    "        away_team = self.base_adapter.away_team(row)\n",
    "        if self.match_count[away_team] <= self.min_matches:\n",
    "            return self.placeholder\n",
    "        return away_team\n",
    "\n",
    "    def home_goals(self, row):\n",
    "        return self.base_adapter.home_goals(row)\n",
    "\n",
    "    def away_goals(self, row):\n",
    "        return self.base_adapter.away_goals(row)\n",
    "\n",
    "    def fit(self, data):\n",
    "        home_match_count = collections.Counter(self.base_adapter.home_team(row) for row in data)\n",
    "        away_match_count = collections.Counter(self.base_adapter.away_team(row) for row in data)\n",
    "        self.match_count = home_match_count + away_match_count"
   ]
  },
  {
   "cell_type": "code",
   "execution_count": null,
   "id": "a16e9648",
   "metadata": {},
   "outputs": [],
   "source": []
  }
 ],
 "metadata": {
  "kernelspec": {
   "display_name": "Python 3",
   "language": "python",
   "name": "python3"
  }
 },
 "nbformat": 4,
 "nbformat_minor": 5
}
